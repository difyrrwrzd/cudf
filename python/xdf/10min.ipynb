{
 "cells": [
  {
   "cell_type": "markdown",
   "id": "6a196c31",
   "metadata": {},
   "source": [
    "# 10 minutes to pandas\n",
    "\n",
    "This is a short introduction to pandas, geared mainly for new users.\n",
    "You can see more complex recipes in the :ref:`Cookbook<cookbook>`.\n",
    "\n",
    "Customarily, we import as follows:"
   ]
  },
  {
   "cell_type": "code",
   "execution_count": 8,
   "id": "69756017",
   "metadata": {},
   "outputs": [],
   "source": [
    "import numpy as np\n",
    "import xdf as pd"
   ]
  },
  {
   "cell_type": "markdown",
   "id": "34f0ac94",
   "metadata": {},
   "source": [
    "Object creation\n",
    "---------------\n",
    "\n",
    "See the :ref:`Intro to data structures section <dsintro>`.\n",
    "\n",
    "Creating a :class:`Series` by passing a list of values, letting pandas create\n",
    "a default integer index:"
   ]
  },
  {
   "cell_type": "code",
   "execution_count": 9,
   "id": "de4b1de4",
   "metadata": {},
   "outputs": [
    {
     "data": {
      "text/plain": [
       "0     1.0\n",
       "1     3.0\n",
       "2     5.0\n",
       "3    <NA>\n",
       "4     6.0\n",
       "5     8.0\n",
       "dtype: float64"
      ]
     },
     "execution_count": 9,
     "metadata": {},
     "output_type": "execute_result"
    }
   ],
   "source": [
    "s = pd.Series([1, 3, 5, np.nan, 6, 8])\n",
    "s"
   ]
  },
  {
   "cell_type": "markdown",
   "id": "ffb212fd",
   "metadata": {},
   "source": [
    "Creating a :class:`DataFrame` by passing a NumPy array, with a datetime index using :func:`date_range`\n",
    "and labeled columns:"
   ]
  },
  {
   "cell_type": "code",
   "execution_count": 10,
   "id": "7edd40a3",
   "metadata": {},
   "outputs": [],
   "source": [
    "dates = pd.date_range(\"20130101\", periods=6)\n",
    "dates\n",
    "df = pd.DataFrame(np.random.randn(6, 4), index=dates, columns=list(\"ABCD\"))"
   ]
  },
  {
   "cell_type": "code",
   "execution_count": 11,
   "id": "3ae08187",
   "metadata": {},
   "outputs": [
    {
     "data": {
      "text/html": [
       "<div>\n",
       "<style scoped>\n",
       "    .dataframe tbody tr th:only-of-type {\n",
       "        vertical-align: middle;\n",
       "    }\n",
       "\n",
       "    .dataframe tbody tr th {\n",
       "        vertical-align: top;\n",
       "    }\n",
       "\n",
       "    .dataframe thead th {\n",
       "        text-align: right;\n",
       "    }\n",
       "</style>\n",
       "<table border=\"1\" class=\"dataframe\">\n",
       "  <thead>\n",
       "    <tr style=\"text-align: right;\">\n",
       "      <th></th>\n",
       "      <th>A</th>\n",
       "      <th>B</th>\n",
       "      <th>C</th>\n",
       "      <th>D</th>\n",
       "    </tr>\n",
       "  </thead>\n",
       "  <tbody>\n",
       "    <tr>\n",
       "      <th>2013-01-01</th>\n",
       "      <td>-2.007877</td>\n",
       "      <td>0.269312</td>\n",
       "      <td>1.047672</td>\n",
       "      <td>-0.476510</td>\n",
       "    </tr>\n",
       "    <tr>\n",
       "      <th>2013-01-02</th>\n",
       "      <td>-0.091807</td>\n",
       "      <td>0.861670</td>\n",
       "      <td>0.804786</td>\n",
       "      <td>0.594410</td>\n",
       "    </tr>\n",
       "    <tr>\n",
       "      <th>2013-01-03</th>\n",
       "      <td>0.254026</td>\n",
       "      <td>-0.791125</td>\n",
       "      <td>0.868380</td>\n",
       "      <td>-0.709333</td>\n",
       "    </tr>\n",
       "    <tr>\n",
       "      <th>2013-01-04</th>\n",
       "      <td>0.097712</td>\n",
       "      <td>1.611808</td>\n",
       "      <td>-1.098642</td>\n",
       "      <td>1.539122</td>\n",
       "    </tr>\n",
       "    <tr>\n",
       "      <th>2013-01-05</th>\n",
       "      <td>0.277556</td>\n",
       "      <td>0.347104</td>\n",
       "      <td>-0.244899</td>\n",
       "      <td>-1.950336</td>\n",
       "    </tr>\n",
       "    <tr>\n",
       "      <th>2013-01-06</th>\n",
       "      <td>-2.154311</td>\n",
       "      <td>0.012174</td>\n",
       "      <td>-1.151179</td>\n",
       "      <td>0.304448</td>\n",
       "    </tr>\n",
       "  </tbody>\n",
       "</table>\n",
       "</div>"
      ],
      "text/plain": [
       "                   A         B         C         D\n",
       "2013-01-01 -2.007877  0.269312  1.047672 -0.476510\n",
       "2013-01-02 -0.091807  0.861670  0.804786  0.594410\n",
       "2013-01-03  0.254026 -0.791125  0.868380 -0.709333\n",
       "2013-01-04  0.097712  1.611808 -1.098642  1.539122\n",
       "2013-01-05  0.277556  0.347104 -0.244899 -1.950336\n",
       "2013-01-06 -2.154311  0.012174 -1.151179  0.304448"
      ]
     },
     "execution_count": 11,
     "metadata": {},
     "output_type": "execute_result"
    }
   ],
   "source": [
    "df"
   ]
  },
  {
   "cell_type": "markdown",
   "id": "65e085be",
   "metadata": {},
   "source": [
    "Creating a :class:`DataFrame` by passing a dictionary of objects that can be\n",
    "converted into a series-like structure:"
   ]
  },
  {
   "cell_type": "code",
   "execution_count": 25,
   "id": "1bbdf294",
   "metadata": {},
   "outputs": [
    {
     "data": {
      "text/html": [
       "<div>\n",
       "<style scoped>\n",
       "    .dataframe tbody tr th:only-of-type {\n",
       "        vertical-align: middle;\n",
       "    }\n",
       "\n",
       "    .dataframe tbody tr th {\n",
       "        vertical-align: top;\n",
       "    }\n",
       "\n",
       "    .dataframe thead th {\n",
       "        text-align: right;\n",
       "    }\n",
       "</style>\n",
       "<table border=\"1\" class=\"dataframe\">\n",
       "  <thead>\n",
       "    <tr style=\"text-align: right;\">\n",
       "      <th></th>\n",
       "      <th>A</th>\n",
       "      <th>B</th>\n",
       "      <th>C</th>\n",
       "      <th>D</th>\n",
       "      <th>E</th>\n",
       "      <th>F</th>\n",
       "    </tr>\n",
       "  </thead>\n",
       "  <tbody>\n",
       "    <tr>\n",
       "      <th>0</th>\n",
       "      <td>1.0</td>\n",
       "      <td>2013-01-02</td>\n",
       "      <td>1.0</td>\n",
       "      <td>3</td>\n",
       "      <td>test</td>\n",
       "      <td>foo</td>\n",
       "    </tr>\n",
       "    <tr>\n",
       "      <th>1</th>\n",
       "      <td>1.0</td>\n",
       "      <td>2013-01-02</td>\n",
       "      <td>1.0</td>\n",
       "      <td>3</td>\n",
       "      <td>train</td>\n",
       "      <td>foo</td>\n",
       "    </tr>\n",
       "    <tr>\n",
       "      <th>2</th>\n",
       "      <td>1.0</td>\n",
       "      <td>2013-01-02</td>\n",
       "      <td>1.0</td>\n",
       "      <td>3</td>\n",
       "      <td>test</td>\n",
       "      <td>foo</td>\n",
       "    </tr>\n",
       "    <tr>\n",
       "      <th>3</th>\n",
       "      <td>1.0</td>\n",
       "      <td>2013-01-02</td>\n",
       "      <td>1.0</td>\n",
       "      <td>3</td>\n",
       "      <td>train</td>\n",
       "      <td>foo</td>\n",
       "    </tr>\n",
       "  </tbody>\n",
       "</table>\n",
       "</div>"
      ],
      "text/plain": [
       "     A          B    C  D      E    F\n",
       "0  1.0 2013-01-02  1.0  3   test  foo\n",
       "1  1.0 2013-01-02  1.0  3  train  foo\n",
       "2  1.0 2013-01-02  1.0  3   test  foo\n",
       "3  1.0 2013-01-02  1.0  3  train  foo"
      ]
     },
     "execution_count": 25,
     "metadata": {},
     "output_type": "execute_result"
    }
   ],
   "source": [
    "# This fails because of https://github.com/rapidsai/cudf/issues/12646\n",
    "\n",
    "# df2 = pd.DataFrame(\n",
    "#    {\n",
    "#        \"A\": 1.0,\n",
    "#        \"B\": pd.Timestamp(\"20130102\"),\n",
    "#        \"C\": pd.Series(1, index=list(range(4)), dtype=\"float32\"),\n",
    "#        \"D\": np.array([3] * 4, dtype=\"int32\"),\n",
    "#        \"E\": pd.Categorical([\"test\", \"train\", \"test\", \"train\"]),\n",
    "#        \"F\": \"foo\",\n",
    "#    }\n",
    "# )\n",
    "# df2\n",
    "\n",
    "df2 = pd.DataFrame(\n",
    "   {\n",
    "       \"A\": [1.0]*4,\n",
    "       \"B\": [pd.Timestamp(\"20130102\")]*4,\n",
    "       \"C\": pd.Series([1]*4, dtype=\"float32\"),\n",
    "       \"D\": np.array([3] * 4, dtype=\"int32\"),\n",
    "       \"E\": pd.Categorical([\"test\", \"train\", \"test\", \"train\"]),\n",
    "       \"F\": [\"foo\"]*4,\n",
    "   }\n",
    ")\n",
    "df2"
   ]
  },
  {
   "cell_type": "markdown",
   "id": "b8af861e",
   "metadata": {},
   "source": [
    "The columns of the resulting :class:`DataFrame` have different\n",
    ":ref:`dtypes <basics.dtypes>`:"
   ]
  },
  {
   "cell_type": "code",
   "execution_count": 26,
   "id": "26cfd5bb",
   "metadata": {},
   "outputs": [
    {
     "data": {
      "text/plain": [
       "A           float64\n",
       "B    datetime64[ns]\n",
       "C           float32\n",
       "D             int32\n",
       "E          category\n",
       "F            object\n",
       "dtype: object"
      ]
     },
     "execution_count": 26,
     "metadata": {},
     "output_type": "execute_result"
    }
   ],
   "source": [
    "df2.dtypes"
   ]
  },
  {
   "cell_type": "markdown",
   "id": "67c399da",
   "metadata": {},
   "source": [
    "Viewing data\n",
    "------------\n",
    "\n",
    "See the :ref:`Basics section <basics>`.\n",
    "\n",
    "Use :meth:`DataFrame.head` and :meth:`DataFrame.tail` to view the top and bottom rows of the frame\n",
    "respectively:"
   ]
  },
  {
   "cell_type": "code",
   "execution_count": 27,
   "id": "d5e2c2ba",
   "metadata": {},
   "outputs": [
    {
     "data": {
      "text/html": [
       "<div>\n",
       "<style scoped>\n",
       "    .dataframe tbody tr th:only-of-type {\n",
       "        vertical-align: middle;\n",
       "    }\n",
       "\n",
       "    .dataframe tbody tr th {\n",
       "        vertical-align: top;\n",
       "    }\n",
       "\n",
       "    .dataframe thead th {\n",
       "        text-align: right;\n",
       "    }\n",
       "</style>\n",
       "<table border=\"1\" class=\"dataframe\">\n",
       "  <thead>\n",
       "    <tr style=\"text-align: right;\">\n",
       "      <th></th>\n",
       "      <th>A</th>\n",
       "      <th>B</th>\n",
       "      <th>C</th>\n",
       "      <th>D</th>\n",
       "    </tr>\n",
       "  </thead>\n",
       "  <tbody>\n",
       "    <tr>\n",
       "      <th>2013-01-04</th>\n",
       "      <td>0.097712</td>\n",
       "      <td>1.611808</td>\n",
       "      <td>-1.098642</td>\n",
       "      <td>1.539122</td>\n",
       "    </tr>\n",
       "    <tr>\n",
       "      <th>2013-01-05</th>\n",
       "      <td>0.277556</td>\n",
       "      <td>0.347104</td>\n",
       "      <td>-0.244899</td>\n",
       "      <td>-1.950336</td>\n",
       "    </tr>\n",
       "    <tr>\n",
       "      <th>2013-01-06</th>\n",
       "      <td>-2.154311</td>\n",
       "      <td>0.012174</td>\n",
       "      <td>-1.151179</td>\n",
       "      <td>0.304448</td>\n",
       "    </tr>\n",
       "  </tbody>\n",
       "</table>\n",
       "</div>"
      ],
      "text/plain": [
       "                   A         B         C         D\n",
       "2013-01-04  0.097712  1.611808 -1.098642  1.539122\n",
       "2013-01-05  0.277556  0.347104 -0.244899 -1.950336\n",
       "2013-01-06 -2.154311  0.012174 -1.151179  0.304448"
      ]
     },
     "execution_count": 27,
     "metadata": {},
     "output_type": "execute_result"
    }
   ],
   "source": [
    "df.head()\n",
    "df.tail(3)"
   ]
  },
  {
   "cell_type": "markdown",
   "id": "f0e72b8d",
   "metadata": {},
   "source": [
    "Display the :attr:`DataFrame.index` or :attr:`DataFrame.columns`:"
   ]
  },
  {
   "cell_type": "code",
   "execution_count": 28,
   "id": "f4b023fb",
   "metadata": {},
   "outputs": [
    {
     "data": {
      "text/plain": [
       "StringIndex(['A' 'B' 'C' 'D'], dtype='object')"
      ]
     },
     "execution_count": 28,
     "metadata": {},
     "output_type": "execute_result"
    }
   ],
   "source": [
    "df.index\n",
    "df.columns"
   ]
  },
  {
   "cell_type": "markdown",
   "id": "579280c4",
   "metadata": {},
   "source": [
    ":meth:`DataFrame.to_numpy` gives a NumPy representation of the underlying data.\n",
    "Note that this can be an expensive operation when your :class:`DataFrame` has\n",
    "columns with different data types, which comes down to a fundamental difference\n",
    "between pandas and NumPy: **NumPy arrays have one dtype for the entire array,\n",
    "while pandas DataFrames have one dtype per column**. When you call\n",
    ":meth:`DataFrame.to_numpy`, pandas will find the NumPy dtype that can hold *all*\n",
    "of the dtypes in the DataFrame. This may end up being ``object``, which requires\n",
    "casting every value to a Python object.\n",
    "\n",
    "For ``df``, our :class:`DataFrame` of all floating-point values, and\n",
    ":meth:`DataFrame.to_numpy` is fast and doesn't require copying data:"
   ]
  },
  {
   "cell_type": "code",
   "execution_count": 29,
   "id": "67cf49ec",
   "metadata": {},
   "outputs": [
    {
     "data": {
      "text/plain": [
       "array([[-2.00787745,  0.26931169,  1.04767222, -0.47651031],\n",
       "       [-0.09180679,  0.86167032,  0.80478571,  0.59440972],\n",
       "       [ 0.25402554, -0.79112451,  0.86837962, -0.70933307],\n",
       "       [ 0.09771207,  1.61180781, -1.09864159,  1.53912199],\n",
       "       [ 0.27755629,  0.3471044 , -0.24489914, -1.95033558],\n",
       "       [-2.1543108 ,  0.01217427, -1.15117852,  0.30444768]])"
      ]
     },
     "execution_count": 29,
     "metadata": {},
     "output_type": "execute_result"
    }
   ],
   "source": [
    "df.to_numpy()"
   ]
  },
  {
   "cell_type": "markdown",
   "id": "ea48921c",
   "metadata": {},
   "source": [
    "For ``df2``, the :class:`DataFrame` with multiple dtypes,\n",
    ":meth:`DataFrame.to_numpy` is relatively expensive:"
   ]
  },
  {
   "cell_type": "code",
   "execution_count": 30,
   "id": "217fa3fe",
   "metadata": {},
   "outputs": [
    {
     "data": {
      "text/plain": [
       "array([[1.0, 1357084800000000000, 1.0, 3, 'test', 'foo'],\n",
       "       [1.0, 1357084800000000000, 1.0, 3, 'train', 'foo'],\n",
       "       [1.0, 1357084800000000000, 1.0, 3, 'test', 'foo'],\n",
       "       [1.0, 1357084800000000000, 1.0, 3, 'train', 'foo']], dtype=object)"
      ]
     },
     "execution_count": 30,
     "metadata": {},
     "output_type": "execute_result"
    }
   ],
   "source": [
    "df2.to_numpy()"
   ]
  },
  {
   "cell_type": "markdown",
   "id": "589977a9",
   "metadata": {},
   "source": [
    ":meth:`DataFrame.to_numpy` does *not* include the index or column\n",
    "labels in the output.\n",
    "\n",
    ":func:`~DataFrame.describe` shows a quick statistic summary of your data:"
   ]
  },
  {
   "cell_type": "code",
   "execution_count": 31,
   "id": "5462af3d",
   "metadata": {},
   "outputs": [
    {
     "data": {
      "text/html": [
       "<div>\n",
       "<style scoped>\n",
       "    .dataframe tbody tr th:only-of-type {\n",
       "        vertical-align: middle;\n",
       "    }\n",
       "\n",
       "    .dataframe tbody tr th {\n",
       "        vertical-align: top;\n",
       "    }\n",
       "\n",
       "    .dataframe thead th {\n",
       "        text-align: right;\n",
       "    }\n",
       "</style>\n",
       "<table border=\"1\" class=\"dataframe\">\n",
       "  <thead>\n",
       "    <tr style=\"text-align: right;\">\n",
       "      <th></th>\n",
       "      <th>A</th>\n",
       "      <th>B</th>\n",
       "      <th>C</th>\n",
       "      <th>D</th>\n",
       "    </tr>\n",
       "  </thead>\n",
       "  <tbody>\n",
       "    <tr>\n",
       "      <th>count</th>\n",
       "      <td>6.000000</td>\n",
       "      <td>6.000000</td>\n",
       "      <td>6.000000</td>\n",
       "      <td>6.000000</td>\n",
       "    </tr>\n",
       "    <tr>\n",
       "      <th>mean</th>\n",
       "      <td>-0.604117</td>\n",
       "      <td>0.385157</td>\n",
       "      <td>0.037686</td>\n",
       "      <td>-0.116367</td>\n",
       "    </tr>\n",
       "    <tr>\n",
       "      <th>std</th>\n",
       "      <td>1.152599</td>\n",
       "      <td>0.808623</td>\n",
       "      <td>1.008272</td>\n",
       "      <td>1.205627</td>\n",
       "    </tr>\n",
       "    <tr>\n",
       "      <th>min</th>\n",
       "      <td>-2.154311</td>\n",
       "      <td>-0.791125</td>\n",
       "      <td>-1.151179</td>\n",
       "      <td>-1.950336</td>\n",
       "    </tr>\n",
       "    <tr>\n",
       "      <th>25%</th>\n",
       "      <td>-1.528860</td>\n",
       "      <td>0.076459</td>\n",
       "      <td>-0.885206</td>\n",
       "      <td>-0.651127</td>\n",
       "    </tr>\n",
       "    <tr>\n",
       "      <th>50%</th>\n",
       "      <td>0.002953</td>\n",
       "      <td>0.308208</td>\n",
       "      <td>0.279943</td>\n",
       "      <td>-0.086031</td>\n",
       "    </tr>\n",
       "    <tr>\n",
       "      <th>75%</th>\n",
       "      <td>0.214947</td>\n",
       "      <td>0.733029</td>\n",
       "      <td>0.852481</td>\n",
       "      <td>0.521919</td>\n",
       "    </tr>\n",
       "    <tr>\n",
       "      <th>max</th>\n",
       "      <td>0.277556</td>\n",
       "      <td>1.611808</td>\n",
       "      <td>1.047672</td>\n",
       "      <td>1.539122</td>\n",
       "    </tr>\n",
       "  </tbody>\n",
       "</table>\n",
       "</div>"
      ],
      "text/plain": [
       "              A         B         C         D\n",
       "count  6.000000  6.000000  6.000000  6.000000\n",
       "mean  -0.604117  0.385157  0.037686 -0.116367\n",
       "std    1.152599  0.808623  1.008272  1.205627\n",
       "min   -2.154311 -0.791125 -1.151179 -1.950336\n",
       "25%   -1.528860  0.076459 -0.885206 -0.651127\n",
       "50%    0.002953  0.308208  0.279943 -0.086031\n",
       "75%    0.214947  0.733029  0.852481  0.521919\n",
       "max    0.277556  1.611808  1.047672  1.539122"
      ]
     },
     "execution_count": 31,
     "metadata": {},
     "output_type": "execute_result"
    }
   ],
   "source": [
    "df.describe()"
   ]
  },
  {
   "cell_type": "markdown",
   "id": "3c60f817",
   "metadata": {},
   "source": [
    "Transposing your data:"
   ]
  },
  {
   "cell_type": "code",
   "execution_count": 32,
   "id": "0f2c1a56",
   "metadata": {},
   "outputs": [
    {
     "data": {
      "text/html": [
       "<div>\n",
       "<style scoped>\n",
       "    .dataframe tbody tr th:only-of-type {\n",
       "        vertical-align: middle;\n",
       "    }\n",
       "\n",
       "    .dataframe tbody tr th {\n",
       "        vertical-align: top;\n",
       "    }\n",
       "\n",
       "    .dataframe thead th {\n",
       "        text-align: right;\n",
       "    }\n",
       "</style>\n",
       "<table border=\"1\" class=\"dataframe\">\n",
       "  <thead>\n",
       "    <tr style=\"text-align: right;\">\n",
       "      <th></th>\n",
       "      <th>2013-01-01</th>\n",
       "      <th>2013-01-02</th>\n",
       "      <th>2013-01-03</th>\n",
       "      <th>2013-01-04</th>\n",
       "      <th>2013-01-05</th>\n",
       "      <th>2013-01-06</th>\n",
       "    </tr>\n",
       "  </thead>\n",
       "  <tbody>\n",
       "    <tr>\n",
       "      <th>A</th>\n",
       "      <td>-2.007877</td>\n",
       "      <td>-0.091807</td>\n",
       "      <td>0.254026</td>\n",
       "      <td>0.097712</td>\n",
       "      <td>0.277556</td>\n",
       "      <td>-2.154311</td>\n",
       "    </tr>\n",
       "    <tr>\n",
       "      <th>B</th>\n",
       "      <td>0.269312</td>\n",
       "      <td>0.861670</td>\n",
       "      <td>-0.791125</td>\n",
       "      <td>1.611808</td>\n",
       "      <td>0.347104</td>\n",
       "      <td>0.012174</td>\n",
       "    </tr>\n",
       "    <tr>\n",
       "      <th>C</th>\n",
       "      <td>1.047672</td>\n",
       "      <td>0.804786</td>\n",
       "      <td>0.868380</td>\n",
       "      <td>-1.098642</td>\n",
       "      <td>-0.244899</td>\n",
       "      <td>-1.151179</td>\n",
       "    </tr>\n",
       "    <tr>\n",
       "      <th>D</th>\n",
       "      <td>-0.476510</td>\n",
       "      <td>0.594410</td>\n",
       "      <td>-0.709333</td>\n",
       "      <td>1.539122</td>\n",
       "      <td>-1.950336</td>\n",
       "      <td>0.304448</td>\n",
       "    </tr>\n",
       "  </tbody>\n",
       "</table>\n",
       "</div>"
      ],
      "text/plain": [
       "   2013-01-01  2013-01-02  2013-01-03  2013-01-04  2013-01-05  2013-01-06\n",
       "A   -2.007877   -0.091807    0.254026    0.097712    0.277556   -2.154311\n",
       "B    0.269312    0.861670   -0.791125    1.611808    0.347104    0.012174\n",
       "C    1.047672    0.804786    0.868380   -1.098642   -0.244899   -1.151179\n",
       "D   -0.476510    0.594410   -0.709333    1.539122   -1.950336    0.304448"
      ]
     },
     "execution_count": 32,
     "metadata": {},
     "output_type": "execute_result"
    }
   ],
   "source": [
    "df.T"
   ]
  },
  {
   "cell_type": "markdown",
   "id": "b0fd8fbd",
   "metadata": {},
   "source": [
    ":meth:`DataFrame.sort_index` sorts by an axis:"
   ]
  },
  {
   "cell_type": "code",
   "execution_count": 33,
   "id": "5e2d3986",
   "metadata": {},
   "outputs": [
    {
     "data": {
      "text/html": [
       "<div>\n",
       "<style scoped>\n",
       "    .dataframe tbody tr th:only-of-type {\n",
       "        vertical-align: middle;\n",
       "    }\n",
       "\n",
       "    .dataframe tbody tr th {\n",
       "        vertical-align: top;\n",
       "    }\n",
       "\n",
       "    .dataframe thead th {\n",
       "        text-align: right;\n",
       "    }\n",
       "</style>\n",
       "<table border=\"1\" class=\"dataframe\">\n",
       "  <thead>\n",
       "    <tr style=\"text-align: right;\">\n",
       "      <th></th>\n",
       "      <th>D</th>\n",
       "      <th>C</th>\n",
       "      <th>B</th>\n",
       "      <th>A</th>\n",
       "    </tr>\n",
       "  </thead>\n",
       "  <tbody>\n",
       "    <tr>\n",
       "      <th>2013-01-01</th>\n",
       "      <td>-0.476510</td>\n",
       "      <td>1.047672</td>\n",
       "      <td>0.269312</td>\n",
       "      <td>-2.007877</td>\n",
       "    </tr>\n",
       "    <tr>\n",
       "      <th>2013-01-02</th>\n",
       "      <td>0.594410</td>\n",
       "      <td>0.804786</td>\n",
       "      <td>0.861670</td>\n",
       "      <td>-0.091807</td>\n",
       "    </tr>\n",
       "    <tr>\n",
       "      <th>2013-01-03</th>\n",
       "      <td>-0.709333</td>\n",
       "      <td>0.868380</td>\n",
       "      <td>-0.791125</td>\n",
       "      <td>0.254026</td>\n",
       "    </tr>\n",
       "    <tr>\n",
       "      <th>2013-01-04</th>\n",
       "      <td>1.539122</td>\n",
       "      <td>-1.098642</td>\n",
       "      <td>1.611808</td>\n",
       "      <td>0.097712</td>\n",
       "    </tr>\n",
       "    <tr>\n",
       "      <th>2013-01-05</th>\n",
       "      <td>-1.950336</td>\n",
       "      <td>-0.244899</td>\n",
       "      <td>0.347104</td>\n",
       "      <td>0.277556</td>\n",
       "    </tr>\n",
       "    <tr>\n",
       "      <th>2013-01-06</th>\n",
       "      <td>0.304448</td>\n",
       "      <td>-1.151179</td>\n",
       "      <td>0.012174</td>\n",
       "      <td>-2.154311</td>\n",
       "    </tr>\n",
       "  </tbody>\n",
       "</table>\n",
       "</div>"
      ],
      "text/plain": [
       "                   D         C         B         A\n",
       "2013-01-01 -0.476510  1.047672  0.269312 -2.007877\n",
       "2013-01-02  0.594410  0.804786  0.861670 -0.091807\n",
       "2013-01-03 -0.709333  0.868380 -0.791125  0.254026\n",
       "2013-01-04  1.539122 -1.098642  1.611808  0.097712\n",
       "2013-01-05 -1.950336 -0.244899  0.347104  0.277556\n",
       "2013-01-06  0.304448 -1.151179  0.012174 -2.154311"
      ]
     },
     "execution_count": 33,
     "metadata": {},
     "output_type": "execute_result"
    }
   ],
   "source": [
    "df.sort_index(axis=1, ascending=False)"
   ]
  },
  {
   "cell_type": "markdown",
   "id": "becb09f1",
   "metadata": {},
   "source": [
    ":meth:`DataFrame.sort_values` sorts by values:"
   ]
  },
  {
   "cell_type": "code",
   "execution_count": 34,
   "id": "3caf98b8",
   "metadata": {},
   "outputs": [
    {
     "data": {
      "text/html": [
       "<div>\n",
       "<style scoped>\n",
       "    .dataframe tbody tr th:only-of-type {\n",
       "        vertical-align: middle;\n",
       "    }\n",
       "\n",
       "    .dataframe tbody tr th {\n",
       "        vertical-align: top;\n",
       "    }\n",
       "\n",
       "    .dataframe thead th {\n",
       "        text-align: right;\n",
       "    }\n",
       "</style>\n",
       "<table border=\"1\" class=\"dataframe\">\n",
       "  <thead>\n",
       "    <tr style=\"text-align: right;\">\n",
       "      <th></th>\n",
       "      <th>A</th>\n",
       "      <th>B</th>\n",
       "      <th>C</th>\n",
       "      <th>D</th>\n",
       "    </tr>\n",
       "  </thead>\n",
       "  <tbody>\n",
       "    <tr>\n",
       "      <th>2013-01-03</th>\n",
       "      <td>0.254026</td>\n",
       "      <td>-0.791125</td>\n",
       "      <td>0.868380</td>\n",
       "      <td>-0.709333</td>\n",
       "    </tr>\n",
       "    <tr>\n",
       "      <th>2013-01-06</th>\n",
       "      <td>-2.154311</td>\n",
       "      <td>0.012174</td>\n",
       "      <td>-1.151179</td>\n",
       "      <td>0.304448</td>\n",
       "    </tr>\n",
       "    <tr>\n",
       "      <th>2013-01-01</th>\n",
       "      <td>-2.007877</td>\n",
       "      <td>0.269312</td>\n",
       "      <td>1.047672</td>\n",
       "      <td>-0.476510</td>\n",
       "    </tr>\n",
       "    <tr>\n",
       "      <th>2013-01-05</th>\n",
       "      <td>0.277556</td>\n",
       "      <td>0.347104</td>\n",
       "      <td>-0.244899</td>\n",
       "      <td>-1.950336</td>\n",
       "    </tr>\n",
       "    <tr>\n",
       "      <th>2013-01-02</th>\n",
       "      <td>-0.091807</td>\n",
       "      <td>0.861670</td>\n",
       "      <td>0.804786</td>\n",
       "      <td>0.594410</td>\n",
       "    </tr>\n",
       "    <tr>\n",
       "      <th>2013-01-04</th>\n",
       "      <td>0.097712</td>\n",
       "      <td>1.611808</td>\n",
       "      <td>-1.098642</td>\n",
       "      <td>1.539122</td>\n",
       "    </tr>\n",
       "  </tbody>\n",
       "</table>\n",
       "</div>"
      ],
      "text/plain": [
       "                   A         B         C         D\n",
       "2013-01-03  0.254026 -0.791125  0.868380 -0.709333\n",
       "2013-01-06 -2.154311  0.012174 -1.151179  0.304448\n",
       "2013-01-01 -2.007877  0.269312  1.047672 -0.476510\n",
       "2013-01-05  0.277556  0.347104 -0.244899 -1.950336\n",
       "2013-01-02 -0.091807  0.861670  0.804786  0.594410\n",
       "2013-01-04  0.097712  1.611808 -1.098642  1.539122"
      ]
     },
     "execution_count": 34,
     "metadata": {},
     "output_type": "execute_result"
    }
   ],
   "source": [
    "df.sort_values(by=\"B\")"
   ]
  },
  {
   "cell_type": "markdown",
   "id": "1cec4c94",
   "metadata": {},
   "source": [
    "Selection\n",
    "---------\n",
    "\n",
    ".. note::\n",
    "\n",
    "   While standard Python / NumPy expressions for selecting and setting are\n",
    "   intuitive and come in handy for interactive work, for production code, we\n",
    "   recommend the optimized pandas data access methods, :meth:`DataFrame.at`, :meth:`DataFrame.iat`,\n",
    "   :meth:`DataFrame.loc` and :meth:`DataFrame.iloc`.\n",
    "\n",
    "See the indexing documentation :ref:`Indexing and Selecting Data <indexing>` and :ref:`MultiIndex / Advanced Indexing <advanced>`.\n",
    "\n",
    "### Getting\n",
    "\n",
    "\n",
    "Selecting a single column, which yields a :class:`Series`,\n",
    "equivalent to ``df.A``:"
   ]
  },
  {
   "cell_type": "code",
   "execution_count": 35,
   "id": "3e05298e",
   "metadata": {},
   "outputs": [
    {
     "data": {
      "text/plain": [
       "2013-01-01   -2.007877\n",
       "2013-01-02   -0.091807\n",
       "2013-01-03    0.254026\n",
       "2013-01-04    0.097712\n",
       "2013-01-05    0.277556\n",
       "2013-01-06   -2.154311\n",
       "Name: A, dtype: float64"
      ]
     },
     "execution_count": 35,
     "metadata": {},
     "output_type": "execute_result"
    }
   ],
   "source": [
    "df[\"A\"]"
   ]
  },
  {
   "cell_type": "markdown",
   "id": "177f8f62",
   "metadata": {},
   "source": [
    "Selecting via ``[]`` (``__getitem__``), which slices the rows:"
   ]
  },
  {
   "cell_type": "code",
   "execution_count": 36,
   "id": "ace7a8a4",
   "metadata": {},
   "outputs": [
    {
     "data": {
      "text/html": [
       "<div>\n",
       "<style scoped>\n",
       "    .dataframe tbody tr th:only-of-type {\n",
       "        vertical-align: middle;\n",
       "    }\n",
       "\n",
       "    .dataframe tbody tr th {\n",
       "        vertical-align: top;\n",
       "    }\n",
       "\n",
       "    .dataframe thead th {\n",
       "        text-align: right;\n",
       "    }\n",
       "</style>\n",
       "<table border=\"1\" class=\"dataframe\">\n",
       "  <thead>\n",
       "    <tr style=\"text-align: right;\">\n",
       "      <th></th>\n",
       "      <th>A</th>\n",
       "      <th>B</th>\n",
       "      <th>C</th>\n",
       "      <th>D</th>\n",
       "    </tr>\n",
       "  </thead>\n",
       "  <tbody>\n",
       "    <tr>\n",
       "      <th>2013-01-02</th>\n",
       "      <td>-0.091807</td>\n",
       "      <td>0.861670</td>\n",
       "      <td>0.804786</td>\n",
       "      <td>0.594410</td>\n",
       "    </tr>\n",
       "    <tr>\n",
       "      <th>2013-01-03</th>\n",
       "      <td>0.254026</td>\n",
       "      <td>-0.791125</td>\n",
       "      <td>0.868380</td>\n",
       "      <td>-0.709333</td>\n",
       "    </tr>\n",
       "    <tr>\n",
       "      <th>2013-01-04</th>\n",
       "      <td>0.097712</td>\n",
       "      <td>1.611808</td>\n",
       "      <td>-1.098642</td>\n",
       "      <td>1.539122</td>\n",
       "    </tr>\n",
       "  </tbody>\n",
       "</table>\n",
       "</div>"
      ],
      "text/plain": [
       "                   A         B         C         D\n",
       "2013-01-02 -0.091807  0.861670  0.804786  0.594410\n",
       "2013-01-03  0.254026 -0.791125  0.868380 -0.709333\n",
       "2013-01-04  0.097712  1.611808 -1.098642  1.539122"
      ]
     },
     "execution_count": 36,
     "metadata": {},
     "output_type": "execute_result"
    }
   ],
   "source": [
    "df[0:3]\n",
    "df[\"20130102\":\"20130104\"]"
   ]
  },
  {
   "cell_type": "markdown",
   "id": "be888ecf",
   "metadata": {},
   "source": [
    "### Selection by label\n",
    "\n",
    "See more in :ref:`Selection by Label <indexing.label>` using :meth:`DataFrame.loc` or :meth:`DataFrame.at`.\n",
    "\n",
    "For getting a cross section using a label:"
   ]
  },
  {
   "cell_type": "code",
   "execution_count": 37,
   "id": "274e0c73",
   "metadata": {},
   "outputs": [
    {
     "data": {
      "text/plain": [
       "A   -2.007877\n",
       "B    0.269312\n",
       "C    1.047672\n",
       "D   -0.476510\n",
       "Name: 2013-01-01 00:00:00, dtype: float64"
      ]
     },
     "execution_count": 37,
     "metadata": {},
     "output_type": "execute_result"
    }
   ],
   "source": [
    "df.loc[dates[0]]"
   ]
  },
  {
   "cell_type": "code",
   "execution_count": 38,
   "id": "d46e7358",
   "metadata": {},
   "outputs": [
    {
     "data": {
      "text/plain": [
       "A   -2.007877\n",
       "B    0.269312\n",
       "C    1.047672\n",
       "D   -0.476510\n",
       "Name: 2013-01-01 00:00:00, dtype: float64"
      ]
     },
     "execution_count": 38,
     "metadata": {},
     "output_type": "execute_result"
    }
   ],
   "source": [
    "df.loc[dates[0]]"
   ]
  },
  {
   "cell_type": "markdown",
   "id": "36839a38",
   "metadata": {},
   "source": [
    "Selecting on a multi-axis by label:"
   ]
  },
  {
   "cell_type": "code",
   "execution_count": 39,
   "id": "288ae323",
   "metadata": {},
   "outputs": [
    {
     "data": {
      "text/html": [
       "<div>\n",
       "<style scoped>\n",
       "    .dataframe tbody tr th:only-of-type {\n",
       "        vertical-align: middle;\n",
       "    }\n",
       "\n",
       "    .dataframe tbody tr th {\n",
       "        vertical-align: top;\n",
       "    }\n",
       "\n",
       "    .dataframe thead th {\n",
       "        text-align: right;\n",
       "    }\n",
       "</style>\n",
       "<table border=\"1\" class=\"dataframe\">\n",
       "  <thead>\n",
       "    <tr style=\"text-align: right;\">\n",
       "      <th></th>\n",
       "      <th>A</th>\n",
       "      <th>B</th>\n",
       "    </tr>\n",
       "  </thead>\n",
       "  <tbody>\n",
       "    <tr>\n",
       "      <th>2013-01-01</th>\n",
       "      <td>-2.007877</td>\n",
       "      <td>0.269312</td>\n",
       "    </tr>\n",
       "    <tr>\n",
       "      <th>2013-01-02</th>\n",
       "      <td>-0.091807</td>\n",
       "      <td>0.861670</td>\n",
       "    </tr>\n",
       "    <tr>\n",
       "      <th>2013-01-03</th>\n",
       "      <td>0.254026</td>\n",
       "      <td>-0.791125</td>\n",
       "    </tr>\n",
       "    <tr>\n",
       "      <th>2013-01-04</th>\n",
       "      <td>0.097712</td>\n",
       "      <td>1.611808</td>\n",
       "    </tr>\n",
       "    <tr>\n",
       "      <th>2013-01-05</th>\n",
       "      <td>0.277556</td>\n",
       "      <td>0.347104</td>\n",
       "    </tr>\n",
       "    <tr>\n",
       "      <th>2013-01-06</th>\n",
       "      <td>-2.154311</td>\n",
       "      <td>0.012174</td>\n",
       "    </tr>\n",
       "  </tbody>\n",
       "</table>\n",
       "</div>"
      ],
      "text/plain": [
       "                   A         B\n",
       "2013-01-01 -2.007877  0.269312\n",
       "2013-01-02 -0.091807  0.861670\n",
       "2013-01-03  0.254026 -0.791125\n",
       "2013-01-04  0.097712  1.611808\n",
       "2013-01-05  0.277556  0.347104\n",
       "2013-01-06 -2.154311  0.012174"
      ]
     },
     "execution_count": 39,
     "metadata": {},
     "output_type": "execute_result"
    }
   ],
   "source": [
    "df.loc[:, [\"A\", \"B\"]]"
   ]
  },
  {
   "cell_type": "markdown",
   "id": "e4ef5bc2",
   "metadata": {},
   "source": [
    "Showing label slicing, both endpoints are *included*:"
   ]
  },
  {
   "cell_type": "code",
   "execution_count": 40,
   "id": "294d0374",
   "metadata": {},
   "outputs": [
    {
     "data": {
      "text/html": [
       "<div>\n",
       "<style scoped>\n",
       "    .dataframe tbody tr th:only-of-type {\n",
       "        vertical-align: middle;\n",
       "    }\n",
       "\n",
       "    .dataframe tbody tr th {\n",
       "        vertical-align: top;\n",
       "    }\n",
       "\n",
       "    .dataframe thead th {\n",
       "        text-align: right;\n",
       "    }\n",
       "</style>\n",
       "<table border=\"1\" class=\"dataframe\">\n",
       "  <thead>\n",
       "    <tr style=\"text-align: right;\">\n",
       "      <th></th>\n",
       "      <th>A</th>\n",
       "      <th>B</th>\n",
       "    </tr>\n",
       "  </thead>\n",
       "  <tbody>\n",
       "    <tr>\n",
       "      <th>2013-01-02</th>\n",
       "      <td>-0.091807</td>\n",
       "      <td>0.861670</td>\n",
       "    </tr>\n",
       "    <tr>\n",
       "      <th>2013-01-03</th>\n",
       "      <td>0.254026</td>\n",
       "      <td>-0.791125</td>\n",
       "    </tr>\n",
       "    <tr>\n",
       "      <th>2013-01-04</th>\n",
       "      <td>0.097712</td>\n",
       "      <td>1.611808</td>\n",
       "    </tr>\n",
       "  </tbody>\n",
       "</table>\n",
       "</div>"
      ],
      "text/plain": [
       "                   A         B\n",
       "2013-01-02 -0.091807  0.861670\n",
       "2013-01-03  0.254026 -0.791125\n",
       "2013-01-04  0.097712  1.611808"
      ]
     },
     "execution_count": 40,
     "metadata": {},
     "output_type": "execute_result"
    }
   ],
   "source": [
    "df.loc[\"20130102\":\"20130104\", [\"A\", \"B\"]]"
   ]
  },
  {
   "cell_type": "markdown",
   "id": "8035c844",
   "metadata": {},
   "source": [
    "Reduction in the dimensions of the returned object:"
   ]
  },
  {
   "cell_type": "code",
   "execution_count": 41,
   "id": "959d399b",
   "metadata": {},
   "outputs": [
    {
     "data": {
      "text/plain": [
       "A   -0.091807\n",
       "B    0.861670\n",
       "Name: 2013-01-02 00:00:00, dtype: float64"
      ]
     },
     "execution_count": 41,
     "metadata": {},
     "output_type": "execute_result"
    }
   ],
   "source": [
    "df.loc[\"20130102\", [\"A\", \"B\"]]"
   ]
  },
  {
   "cell_type": "markdown",
   "id": "6998c172",
   "metadata": {},
   "source": [
    "For getting a scalar value:"
   ]
  },
  {
   "cell_type": "code",
   "execution_count": 42,
   "id": "34878c25",
   "metadata": {},
   "outputs": [
    {
     "data": {
      "text/plain": [
       "-2.007877451786815"
      ]
     },
     "execution_count": 42,
     "metadata": {},
     "output_type": "execute_result"
    }
   ],
   "source": [
    "df.loc[dates[0], \"A\"]"
   ]
  },
  {
   "cell_type": "markdown",
   "id": "e1240226",
   "metadata": {},
   "source": [
    "For getting fast access to a scalar (equivalent to the prior method):"
   ]
  },
  {
   "cell_type": "code",
   "execution_count": 43,
   "id": "93131fef",
   "metadata": {},
   "outputs": [
    {
     "data": {
      "text/plain": [
       "-2.007877451786815"
      ]
     },
     "execution_count": 43,
     "metadata": {},
     "output_type": "execute_result"
    }
   ],
   "source": [
    "df.at[dates[0], \"A\"]"
   ]
  },
  {
   "cell_type": "markdown",
   "id": "78617d4c",
   "metadata": {},
   "source": [
    "### Selection by position\n",
    "\n",
    "See more in :ref:`Selection by Position <indexing.integer>` using :meth:`DataFrame.iloc` or :meth:`DataFrame.iat`.\n",
    "\n",
    "Select via the position of the passed integers:"
   ]
  },
  {
   "cell_type": "code",
   "execution_count": 44,
   "id": "881511da",
   "metadata": {},
   "outputs": [
    {
     "data": {
      "text/plain": [
       "A    0.097712\n",
       "B    1.611808\n",
       "C   -1.098642\n",
       "D    1.539122\n",
       "Name: 2013-01-04 00:00:00, dtype: float64"
      ]
     },
     "execution_count": 44,
     "metadata": {},
     "output_type": "execute_result"
    }
   ],
   "source": [
    "df.iloc[3]"
   ]
  },
  {
   "cell_type": "markdown",
   "id": "194838eb",
   "metadata": {},
   "source": [
    "By integer slices, acting similar to NumPy/Python:"
   ]
  },
  {
   "cell_type": "code",
   "execution_count": 45,
   "id": "1d6d45a2",
   "metadata": {},
   "outputs": [
    {
     "data": {
      "text/html": [
       "<div>\n",
       "<style scoped>\n",
       "    .dataframe tbody tr th:only-of-type {\n",
       "        vertical-align: middle;\n",
       "    }\n",
       "\n",
       "    .dataframe tbody tr th {\n",
       "        vertical-align: top;\n",
       "    }\n",
       "\n",
       "    .dataframe thead th {\n",
       "        text-align: right;\n",
       "    }\n",
       "</style>\n",
       "<table border=\"1\" class=\"dataframe\">\n",
       "  <thead>\n",
       "    <tr style=\"text-align: right;\">\n",
       "      <th></th>\n",
       "      <th>A</th>\n",
       "      <th>B</th>\n",
       "    </tr>\n",
       "  </thead>\n",
       "  <tbody>\n",
       "    <tr>\n",
       "      <th>2013-01-04</th>\n",
       "      <td>0.097712</td>\n",
       "      <td>1.611808</td>\n",
       "    </tr>\n",
       "    <tr>\n",
       "      <th>2013-01-05</th>\n",
       "      <td>0.277556</td>\n",
       "      <td>0.347104</td>\n",
       "    </tr>\n",
       "  </tbody>\n",
       "</table>\n",
       "</div>"
      ],
      "text/plain": [
       "                   A         B\n",
       "2013-01-04  0.097712  1.611808\n",
       "2013-01-05  0.277556  0.347104"
      ]
     },
     "execution_count": 45,
     "metadata": {},
     "output_type": "execute_result"
    }
   ],
   "source": [
    "df.iloc[3:5, 0:2]"
   ]
  },
  {
   "cell_type": "markdown",
   "id": "73a60c1a",
   "metadata": {},
   "source": [
    "By lists of integer position locations, similar to the NumPy/Python style:"
   ]
  },
  {
   "cell_type": "code",
   "execution_count": 46,
   "id": "31dc3496",
   "metadata": {},
   "outputs": [
    {
     "data": {
      "text/html": [
       "<div>\n",
       "<style scoped>\n",
       "    .dataframe tbody tr th:only-of-type {\n",
       "        vertical-align: middle;\n",
       "    }\n",
       "\n",
       "    .dataframe tbody tr th {\n",
       "        vertical-align: top;\n",
       "    }\n",
       "\n",
       "    .dataframe thead th {\n",
       "        text-align: right;\n",
       "    }\n",
       "</style>\n",
       "<table border=\"1\" class=\"dataframe\">\n",
       "  <thead>\n",
       "    <tr style=\"text-align: right;\">\n",
       "      <th></th>\n",
       "      <th>A</th>\n",
       "      <th>C</th>\n",
       "    </tr>\n",
       "  </thead>\n",
       "  <tbody>\n",
       "    <tr>\n",
       "      <th>2013-01-02</th>\n",
       "      <td>-0.091807</td>\n",
       "      <td>0.804786</td>\n",
       "    </tr>\n",
       "    <tr>\n",
       "      <th>2013-01-03</th>\n",
       "      <td>0.254026</td>\n",
       "      <td>0.868380</td>\n",
       "    </tr>\n",
       "    <tr>\n",
       "      <th>2013-01-05</th>\n",
       "      <td>0.277556</td>\n",
       "      <td>-0.244899</td>\n",
       "    </tr>\n",
       "  </tbody>\n",
       "</table>\n",
       "</div>"
      ],
      "text/plain": [
       "                   A         C\n",
       "2013-01-02 -0.091807  0.804786\n",
       "2013-01-03  0.254026  0.868380\n",
       "2013-01-05  0.277556 -0.244899"
      ]
     },
     "execution_count": 46,
     "metadata": {},
     "output_type": "execute_result"
    }
   ],
   "source": [
    "df.iloc[[1, 2, 4], [0, 2]]"
   ]
  },
  {
   "cell_type": "markdown",
   "id": "fdd79b59",
   "metadata": {},
   "source": [
    "For slicing rows explicitly:"
   ]
  },
  {
   "cell_type": "code",
   "execution_count": 47,
   "id": "ae45b799",
   "metadata": {},
   "outputs": [
    {
     "data": {
      "text/html": [
       "<div>\n",
       "<style scoped>\n",
       "    .dataframe tbody tr th:only-of-type {\n",
       "        vertical-align: middle;\n",
       "    }\n",
       "\n",
       "    .dataframe tbody tr th {\n",
       "        vertical-align: top;\n",
       "    }\n",
       "\n",
       "    .dataframe thead th {\n",
       "        text-align: right;\n",
       "    }\n",
       "</style>\n",
       "<table border=\"1\" class=\"dataframe\">\n",
       "  <thead>\n",
       "    <tr style=\"text-align: right;\">\n",
       "      <th></th>\n",
       "      <th>A</th>\n",
       "      <th>B</th>\n",
       "      <th>C</th>\n",
       "      <th>D</th>\n",
       "    </tr>\n",
       "  </thead>\n",
       "  <tbody>\n",
       "    <tr>\n",
       "      <th>2013-01-02</th>\n",
       "      <td>-0.091807</td>\n",
       "      <td>0.861670</td>\n",
       "      <td>0.804786</td>\n",
       "      <td>0.594410</td>\n",
       "    </tr>\n",
       "    <tr>\n",
       "      <th>2013-01-03</th>\n",
       "      <td>0.254026</td>\n",
       "      <td>-0.791125</td>\n",
       "      <td>0.868380</td>\n",
       "      <td>-0.709333</td>\n",
       "    </tr>\n",
       "  </tbody>\n",
       "</table>\n",
       "</div>"
      ],
      "text/plain": [
       "                   A         B         C         D\n",
       "2013-01-02 -0.091807  0.861670  0.804786  0.594410\n",
       "2013-01-03  0.254026 -0.791125  0.868380 -0.709333"
      ]
     },
     "execution_count": 47,
     "metadata": {},
     "output_type": "execute_result"
    }
   ],
   "source": [
    "df.iloc[1:3, :]"
   ]
  },
  {
   "cell_type": "markdown",
   "id": "e33691c4",
   "metadata": {},
   "source": [
    "For slicing columns explicitly:"
   ]
  },
  {
   "cell_type": "code",
   "execution_count": 48,
   "id": "9c489488",
   "metadata": {},
   "outputs": [
    {
     "data": {
      "text/html": [
       "<div>\n",
       "<style scoped>\n",
       "    .dataframe tbody tr th:only-of-type {\n",
       "        vertical-align: middle;\n",
       "    }\n",
       "\n",
       "    .dataframe tbody tr th {\n",
       "        vertical-align: top;\n",
       "    }\n",
       "\n",
       "    .dataframe thead th {\n",
       "        text-align: right;\n",
       "    }\n",
       "</style>\n",
       "<table border=\"1\" class=\"dataframe\">\n",
       "  <thead>\n",
       "    <tr style=\"text-align: right;\">\n",
       "      <th></th>\n",
       "      <th>B</th>\n",
       "      <th>C</th>\n",
       "    </tr>\n",
       "  </thead>\n",
       "  <tbody>\n",
       "    <tr>\n",
       "      <th>2013-01-01</th>\n",
       "      <td>0.269312</td>\n",
       "      <td>1.047672</td>\n",
       "    </tr>\n",
       "    <tr>\n",
       "      <th>2013-01-02</th>\n",
       "      <td>0.861670</td>\n",
       "      <td>0.804786</td>\n",
       "    </tr>\n",
       "    <tr>\n",
       "      <th>2013-01-03</th>\n",
       "      <td>-0.791125</td>\n",
       "      <td>0.868380</td>\n",
       "    </tr>\n",
       "    <tr>\n",
       "      <th>2013-01-04</th>\n",
       "      <td>1.611808</td>\n",
       "      <td>-1.098642</td>\n",
       "    </tr>\n",
       "    <tr>\n",
       "      <th>2013-01-05</th>\n",
       "      <td>0.347104</td>\n",
       "      <td>-0.244899</td>\n",
       "    </tr>\n",
       "    <tr>\n",
       "      <th>2013-01-06</th>\n",
       "      <td>0.012174</td>\n",
       "      <td>-1.151179</td>\n",
       "    </tr>\n",
       "  </tbody>\n",
       "</table>\n",
       "</div>"
      ],
      "text/plain": [
       "                   B         C\n",
       "2013-01-01  0.269312  1.047672\n",
       "2013-01-02  0.861670  0.804786\n",
       "2013-01-03 -0.791125  0.868380\n",
       "2013-01-04  1.611808 -1.098642\n",
       "2013-01-05  0.347104 -0.244899\n",
       "2013-01-06  0.012174 -1.151179"
      ]
     },
     "execution_count": 48,
     "metadata": {},
     "output_type": "execute_result"
    }
   ],
   "source": [
    "df.iloc[:, 1:3]"
   ]
  },
  {
   "cell_type": "markdown",
   "id": "dc136132",
   "metadata": {},
   "source": [
    "For getting a value explicitly:"
   ]
  },
  {
   "cell_type": "code",
   "execution_count": 49,
   "id": "ffa1ce3d",
   "metadata": {},
   "outputs": [
    {
     "data": {
      "text/plain": [
       "0.861670315323529"
      ]
     },
     "execution_count": 49,
     "metadata": {},
     "output_type": "execute_result"
    }
   ],
   "source": [
    "df.iloc[1, 1]"
   ]
  },
  {
   "cell_type": "markdown",
   "id": "cf802746",
   "metadata": {},
   "source": [
    "For getting fast access to a scalar (equivalent to the prior method):"
   ]
  },
  {
   "cell_type": "code",
   "execution_count": 50,
   "id": "81705fff",
   "metadata": {},
   "outputs": [
    {
     "data": {
      "text/plain": [
       "0.861670315323529"
      ]
     },
     "execution_count": 50,
     "metadata": {},
     "output_type": "execute_result"
    }
   ],
   "source": [
    "df.iat[1, 1]"
   ]
  },
  {
   "cell_type": "markdown",
   "id": "5ebd04fa",
   "metadata": {},
   "source": [
    "### Boolean indexing\n",
    "\n",
    "Using a single column's values to select data:"
   ]
  },
  {
   "cell_type": "code",
   "execution_count": 51,
   "id": "2c0c8ae7",
   "metadata": {},
   "outputs": [
    {
     "data": {
      "text/html": [
       "<div>\n",
       "<style scoped>\n",
       "    .dataframe tbody tr th:only-of-type {\n",
       "        vertical-align: middle;\n",
       "    }\n",
       "\n",
       "    .dataframe tbody tr th {\n",
       "        vertical-align: top;\n",
       "    }\n",
       "\n",
       "    .dataframe thead th {\n",
       "        text-align: right;\n",
       "    }\n",
       "</style>\n",
       "<table border=\"1\" class=\"dataframe\">\n",
       "  <thead>\n",
       "    <tr style=\"text-align: right;\">\n",
       "      <th></th>\n",
       "      <th>A</th>\n",
       "      <th>B</th>\n",
       "      <th>C</th>\n",
       "      <th>D</th>\n",
       "    </tr>\n",
       "  </thead>\n",
       "  <tbody>\n",
       "    <tr>\n",
       "      <th>2013-01-03</th>\n",
       "      <td>0.254026</td>\n",
       "      <td>-0.791125</td>\n",
       "      <td>0.868380</td>\n",
       "      <td>-0.709333</td>\n",
       "    </tr>\n",
       "    <tr>\n",
       "      <th>2013-01-04</th>\n",
       "      <td>0.097712</td>\n",
       "      <td>1.611808</td>\n",
       "      <td>-1.098642</td>\n",
       "      <td>1.539122</td>\n",
       "    </tr>\n",
       "    <tr>\n",
       "      <th>2013-01-05</th>\n",
       "      <td>0.277556</td>\n",
       "      <td>0.347104</td>\n",
       "      <td>-0.244899</td>\n",
       "      <td>-1.950336</td>\n",
       "    </tr>\n",
       "  </tbody>\n",
       "</table>\n",
       "</div>"
      ],
      "text/plain": [
       "                   A         B         C         D\n",
       "2013-01-03  0.254026 -0.791125  0.868380 -0.709333\n",
       "2013-01-04  0.097712  1.611808 -1.098642  1.539122\n",
       "2013-01-05  0.277556  0.347104 -0.244899 -1.950336"
      ]
     },
     "execution_count": 51,
     "metadata": {},
     "output_type": "execute_result"
    }
   ],
   "source": [
    "df[df[\"A\"] > 0]"
   ]
  },
  {
   "cell_type": "markdown",
   "id": "9675741a",
   "metadata": {},
   "source": [
    "Selecting values from a DataFrame where a boolean condition is met:"
   ]
  },
  {
   "cell_type": "code",
   "execution_count": 52,
   "id": "baa2887a",
   "metadata": {},
   "outputs": [
    {
     "data": {
      "text/html": [
       "<div>\n",
       "<style scoped>\n",
       "    .dataframe tbody tr th:only-of-type {\n",
       "        vertical-align: middle;\n",
       "    }\n",
       "\n",
       "    .dataframe tbody tr th {\n",
       "        vertical-align: top;\n",
       "    }\n",
       "\n",
       "    .dataframe thead th {\n",
       "        text-align: right;\n",
       "    }\n",
       "</style>\n",
       "<table border=\"1\" class=\"dataframe\">\n",
       "  <thead>\n",
       "    <tr style=\"text-align: right;\">\n",
       "      <th></th>\n",
       "      <th>A</th>\n",
       "      <th>B</th>\n",
       "      <th>C</th>\n",
       "      <th>D</th>\n",
       "    </tr>\n",
       "  </thead>\n",
       "  <tbody>\n",
       "    <tr>\n",
       "      <th>2013-01-01</th>\n",
       "      <td>&lt;NA&gt;</td>\n",
       "      <td>0.269311688</td>\n",
       "      <td>1.04767222</td>\n",
       "      <td>&lt;NA&gt;</td>\n",
       "    </tr>\n",
       "    <tr>\n",
       "      <th>2013-01-02</th>\n",
       "      <td>&lt;NA&gt;</td>\n",
       "      <td>0.861670315</td>\n",
       "      <td>0.804785712</td>\n",
       "      <td>0.594409716</td>\n",
       "    </tr>\n",
       "    <tr>\n",
       "      <th>2013-01-03</th>\n",
       "      <td>0.25402554</td>\n",
       "      <td>&lt;NA&gt;</td>\n",
       "      <td>0.868379616</td>\n",
       "      <td>&lt;NA&gt;</td>\n",
       "    </tr>\n",
       "    <tr>\n",
       "      <th>2013-01-04</th>\n",
       "      <td>0.097712067</td>\n",
       "      <td>1.611807807</td>\n",
       "      <td>&lt;NA&gt;</td>\n",
       "      <td>1.539121986</td>\n",
       "    </tr>\n",
       "    <tr>\n",
       "      <th>2013-01-05</th>\n",
       "      <td>0.277556289</td>\n",
       "      <td>0.347104399</td>\n",
       "      <td>&lt;NA&gt;</td>\n",
       "      <td>&lt;NA&gt;</td>\n",
       "    </tr>\n",
       "    <tr>\n",
       "      <th>2013-01-06</th>\n",
       "      <td>&lt;NA&gt;</td>\n",
       "      <td>0.012174269</td>\n",
       "      <td>&lt;NA&gt;</td>\n",
       "      <td>0.304447683</td>\n",
       "    </tr>\n",
       "  </tbody>\n",
       "</table>\n",
       "</div>"
      ],
      "text/plain": [
       "                      A            B            C            D\n",
       "2013-01-01         <NA>  0.269311688   1.04767222         <NA>\n",
       "2013-01-02         <NA>  0.861670315  0.804785712  0.594409716\n",
       "2013-01-03   0.25402554         <NA>  0.868379616         <NA>\n",
       "2013-01-04  0.097712067  1.611807807         <NA>  1.539121986\n",
       "2013-01-05  0.277556289  0.347104399         <NA>         <NA>\n",
       "2013-01-06         <NA>  0.012174269         <NA>  0.304447683"
      ]
     },
     "execution_count": 52,
     "metadata": {},
     "output_type": "execute_result"
    }
   ],
   "source": [
    "df[df > 0]"
   ]
  },
  {
   "cell_type": "markdown",
   "id": "90192a4d",
   "metadata": {},
   "source": [
    "Using the :func:`~Series.isin` method for filtering:"
   ]
  },
  {
   "cell_type": "code",
   "execution_count": 53,
   "id": "651c5198",
   "metadata": {},
   "outputs": [
    {
     "data": {
      "text/html": [
       "<div>\n",
       "<style scoped>\n",
       "    .dataframe tbody tr th:only-of-type {\n",
       "        vertical-align: middle;\n",
       "    }\n",
       "\n",
       "    .dataframe tbody tr th {\n",
       "        vertical-align: top;\n",
       "    }\n",
       "\n",
       "    .dataframe thead th {\n",
       "        text-align: right;\n",
       "    }\n",
       "</style>\n",
       "<table border=\"1\" class=\"dataframe\">\n",
       "  <thead>\n",
       "    <tr style=\"text-align: right;\">\n",
       "      <th></th>\n",
       "      <th>A</th>\n",
       "      <th>B</th>\n",
       "      <th>C</th>\n",
       "      <th>D</th>\n",
       "      <th>E</th>\n",
       "    </tr>\n",
       "  </thead>\n",
       "  <tbody>\n",
       "    <tr>\n",
       "      <th>2013-01-03</th>\n",
       "      <td>0.254026</td>\n",
       "      <td>-0.791125</td>\n",
       "      <td>0.868380</td>\n",
       "      <td>-0.709333</td>\n",
       "      <td>two</td>\n",
       "    </tr>\n",
       "    <tr>\n",
       "      <th>2013-01-05</th>\n",
       "      <td>0.277556</td>\n",
       "      <td>0.347104</td>\n",
       "      <td>-0.244899</td>\n",
       "      <td>-1.950336</td>\n",
       "      <td>four</td>\n",
       "    </tr>\n",
       "  </tbody>\n",
       "</table>\n",
       "</div>"
      ],
      "text/plain": [
       "                   A         B         C         D     E\n",
       "2013-01-03  0.254026 -0.791125  0.868380 -0.709333   two\n",
       "2013-01-05  0.277556  0.347104 -0.244899 -1.950336  four"
      ]
     },
     "execution_count": 53,
     "metadata": {},
     "output_type": "execute_result"
    }
   ],
   "source": [
    "df2 = df.copy()\n",
    "df2[\"E\"] = [\"one\", \"one\", \"two\", \"three\", \"four\", \"three\"]\n",
    "df2\n",
    "df2[df2[\"E\"].isin([\"two\", \"four\"])]"
   ]
  },
  {
   "cell_type": "markdown",
   "id": "e0882d52",
   "metadata": {},
   "source": [
    "### Setting\n",
    "\n",
    "Setting a new column automatically aligns the data\n",
    "by the indexes:"
   ]
  },
  {
   "cell_type": "code",
   "execution_count": 54,
   "id": "18c387cc",
   "metadata": {},
   "outputs": [],
   "source": [
    "s1 = pd.Series([1, 2, 3, 4, 5, 6], index=pd.date_range(\"20130102\", periods=6))\n",
    "s1\n",
    "df[\"F\"] = s1"
   ]
  },
  {
   "cell_type": "markdown",
   "id": "01324925",
   "metadata": {},
   "source": [
    "Setting values by label:"
   ]
  },
  {
   "cell_type": "code",
   "execution_count": 55,
   "id": "b491312e",
   "metadata": {},
   "outputs": [],
   "source": [
    "df.at[dates[0], \"A\"] = 0"
   ]
  },
  {
   "cell_type": "markdown",
   "id": "c9081051",
   "metadata": {},
   "source": [
    "Setting values by position:"
   ]
  },
  {
   "cell_type": "code",
   "execution_count": 56,
   "id": "9e90bc09",
   "metadata": {},
   "outputs": [],
   "source": [
    "df.iat[0, 1] = 0"
   ]
  },
  {
   "cell_type": "markdown",
   "id": "3b23418d",
   "metadata": {},
   "source": [
    "Setting by assigning with a NumPy array:"
   ]
  },
  {
   "cell_type": "code",
   "execution_count": 57,
   "id": "ebbb7cd1",
   "metadata": {},
   "outputs": [],
   "source": [
    "df.loc[:, \"D\"] = np.array([5] * len(df))"
   ]
  },
  {
   "cell_type": "markdown",
   "id": "cbb958ca",
   "metadata": {},
   "source": [
    "The result of the prior setting operations:"
   ]
  },
  {
   "cell_type": "code",
   "execution_count": 58,
   "id": "62bfa5a9",
   "metadata": {},
   "outputs": [
    {
     "data": {
      "text/html": [
       "<div>\n",
       "<style scoped>\n",
       "    .dataframe tbody tr th:only-of-type {\n",
       "        vertical-align: middle;\n",
       "    }\n",
       "\n",
       "    .dataframe tbody tr th {\n",
       "        vertical-align: top;\n",
       "    }\n",
       "\n",
       "    .dataframe thead th {\n",
       "        text-align: right;\n",
       "    }\n",
       "</style>\n",
       "<table border=\"1\" class=\"dataframe\">\n",
       "  <thead>\n",
       "    <tr style=\"text-align: right;\">\n",
       "      <th></th>\n",
       "      <th>A</th>\n",
       "      <th>B</th>\n",
       "      <th>C</th>\n",
       "      <th>D</th>\n",
       "      <th>F</th>\n",
       "    </tr>\n",
       "  </thead>\n",
       "  <tbody>\n",
       "    <tr>\n",
       "      <th>2013-01-01</th>\n",
       "      <td>0.000000</td>\n",
       "      <td>0.000000</td>\n",
       "      <td>1.047672</td>\n",
       "      <td>5.0</td>\n",
       "      <td>&lt;NA&gt;</td>\n",
       "    </tr>\n",
       "    <tr>\n",
       "      <th>2013-01-02</th>\n",
       "      <td>-0.091807</td>\n",
       "      <td>0.861670</td>\n",
       "      <td>0.804786</td>\n",
       "      <td>5.0</td>\n",
       "      <td>1.0</td>\n",
       "    </tr>\n",
       "    <tr>\n",
       "      <th>2013-01-03</th>\n",
       "      <td>0.254026</td>\n",
       "      <td>-0.791125</td>\n",
       "      <td>0.868380</td>\n",
       "      <td>5.0</td>\n",
       "      <td>2.0</td>\n",
       "    </tr>\n",
       "    <tr>\n",
       "      <th>2013-01-04</th>\n",
       "      <td>0.097712</td>\n",
       "      <td>1.611808</td>\n",
       "      <td>-1.098642</td>\n",
       "      <td>5.0</td>\n",
       "      <td>3.0</td>\n",
       "    </tr>\n",
       "    <tr>\n",
       "      <th>2013-01-05</th>\n",
       "      <td>0.277556</td>\n",
       "      <td>0.347104</td>\n",
       "      <td>-0.244899</td>\n",
       "      <td>5.0</td>\n",
       "      <td>4.0</td>\n",
       "    </tr>\n",
       "    <tr>\n",
       "      <th>2013-01-06</th>\n",
       "      <td>-2.154311</td>\n",
       "      <td>0.012174</td>\n",
       "      <td>-1.151179</td>\n",
       "      <td>5.0</td>\n",
       "      <td>5.0</td>\n",
       "    </tr>\n",
       "  </tbody>\n",
       "</table>\n",
       "</div>"
      ],
      "text/plain": [
       "                   A         B         C    D     F\n",
       "2013-01-01  0.000000  0.000000  1.047672  5.0  <NA>\n",
       "2013-01-02 -0.091807  0.861670  0.804786  5.0   1.0\n",
       "2013-01-03  0.254026 -0.791125  0.868380  5.0   2.0\n",
       "2013-01-04  0.097712  1.611808 -1.098642  5.0   3.0\n",
       "2013-01-05  0.277556  0.347104 -0.244899  5.0   4.0\n",
       "2013-01-06 -2.154311  0.012174 -1.151179  5.0   5.0"
      ]
     },
     "execution_count": 58,
     "metadata": {},
     "output_type": "execute_result"
    }
   ],
   "source": [
    "df"
   ]
  },
  {
   "cell_type": "markdown",
   "id": "cc377429",
   "metadata": {},
   "source": [
    "A ``where`` operation with setting:"
   ]
  },
  {
   "cell_type": "code",
   "execution_count": 59,
   "id": "1230fc31",
   "metadata": {},
   "outputs": [],
   "source": [
    "# this fails because of https://github.com/rapidsai/cudf/issues/12397\n",
    "\n",
    "# df2 = df.copy()\n",
    "# df2[df2 > 0] = -df2\n",
    "# df2"
   ]
  },
  {
   "cell_type": "markdown",
   "id": "63a096f5",
   "metadata": {},
   "source": [
    "Missing data\n",
    "------------\n",
    "\n",
    "pandas primarily uses the value ``np.nan`` to represent missing data. It is by\n",
    "default not included in computations. See the :ref:`Missing Data section\n",
    "<missing_data>`.\n",
    "\n",
    "Reindexing allows you to change/add/delete the index on a specified axis. This\n",
    "returns a copy of the data:"
   ]
  },
  {
   "cell_type": "code",
   "execution_count": 60,
   "id": "a7c392cb",
   "metadata": {},
   "outputs": [
    {
     "data": {
      "text/html": [
       "<div>\n",
       "<style scoped>\n",
       "    .dataframe tbody tr th:only-of-type {\n",
       "        vertical-align: middle;\n",
       "    }\n",
       "\n",
       "    .dataframe tbody tr th {\n",
       "        vertical-align: top;\n",
       "    }\n",
       "\n",
       "    .dataframe thead th {\n",
       "        text-align: right;\n",
       "    }\n",
       "</style>\n",
       "<table border=\"1\" class=\"dataframe\">\n",
       "  <thead>\n",
       "    <tr style=\"text-align: right;\">\n",
       "      <th></th>\n",
       "      <th>A</th>\n",
       "      <th>B</th>\n",
       "      <th>C</th>\n",
       "      <th>D</th>\n",
       "      <th>F</th>\n",
       "      <th>E</th>\n",
       "    </tr>\n",
       "  </thead>\n",
       "  <tbody>\n",
       "    <tr>\n",
       "      <th>2013-01-01</th>\n",
       "      <td>0.000000</td>\n",
       "      <td>0.000000</td>\n",
       "      <td>1.047672</td>\n",
       "      <td>5.0</td>\n",
       "      <td>&lt;NA&gt;</td>\n",
       "      <td>1.0</td>\n",
       "    </tr>\n",
       "    <tr>\n",
       "      <th>2013-01-02</th>\n",
       "      <td>-0.091807</td>\n",
       "      <td>0.861670</td>\n",
       "      <td>0.804786</td>\n",
       "      <td>5.0</td>\n",
       "      <td>1.0</td>\n",
       "      <td>1.0</td>\n",
       "    </tr>\n",
       "    <tr>\n",
       "      <th>2013-01-03</th>\n",
       "      <td>0.254026</td>\n",
       "      <td>-0.791125</td>\n",
       "      <td>0.868380</td>\n",
       "      <td>5.0</td>\n",
       "      <td>2.0</td>\n",
       "      <td>&lt;NA&gt;</td>\n",
       "    </tr>\n",
       "    <tr>\n",
       "      <th>2013-01-04</th>\n",
       "      <td>0.097712</td>\n",
       "      <td>1.611808</td>\n",
       "      <td>-1.098642</td>\n",
       "      <td>5.0</td>\n",
       "      <td>3.0</td>\n",
       "      <td>&lt;NA&gt;</td>\n",
       "    </tr>\n",
       "  </tbody>\n",
       "</table>\n",
       "</div>"
      ],
      "text/plain": [
       "                   A         B         C    D     F     E\n",
       "2013-01-01  0.000000  0.000000  1.047672  5.0  <NA>   1.0\n",
       "2013-01-02 -0.091807  0.861670  0.804786  5.0   1.0   1.0\n",
       "2013-01-03  0.254026 -0.791125  0.868380  5.0   2.0  <NA>\n",
       "2013-01-04  0.097712  1.611808 -1.098642  5.0   3.0  <NA>"
      ]
     },
     "execution_count": 60,
     "metadata": {},
     "output_type": "execute_result"
    }
   ],
   "source": [
    "df1 = df.reindex(index=dates[0:4], columns=list(df.columns) + [\"E\"])\n",
    "df1.loc[dates[0] : dates[1], \"E\"] = 1\n",
    "df1"
   ]
  },
  {
   "cell_type": "markdown",
   "id": "fc7e1a04",
   "metadata": {},
   "source": [
    ":meth:`DataFrame.dropna` drops any rows that have missing data:"
   ]
  },
  {
   "cell_type": "code",
   "execution_count": 61,
   "id": "e48348a5",
   "metadata": {},
   "outputs": [
    {
     "data": {
      "text/html": [
       "<div>\n",
       "<style scoped>\n",
       "    .dataframe tbody tr th:only-of-type {\n",
       "        vertical-align: middle;\n",
       "    }\n",
       "\n",
       "    .dataframe tbody tr th {\n",
       "        vertical-align: top;\n",
       "    }\n",
       "\n",
       "    .dataframe thead th {\n",
       "        text-align: right;\n",
       "    }\n",
       "</style>\n",
       "<table border=\"1\" class=\"dataframe\">\n",
       "  <thead>\n",
       "    <tr style=\"text-align: right;\">\n",
       "      <th></th>\n",
       "      <th>A</th>\n",
       "      <th>B</th>\n",
       "      <th>C</th>\n",
       "      <th>D</th>\n",
       "      <th>F</th>\n",
       "      <th>E</th>\n",
       "    </tr>\n",
       "  </thead>\n",
       "  <tbody>\n",
       "    <tr>\n",
       "      <th>2013-01-02</th>\n",
       "      <td>-0.091807</td>\n",
       "      <td>0.86167</td>\n",
       "      <td>0.804786</td>\n",
       "      <td>5.0</td>\n",
       "      <td>1.0</td>\n",
       "      <td>1.0</td>\n",
       "    </tr>\n",
       "  </tbody>\n",
       "</table>\n",
       "</div>"
      ],
      "text/plain": [
       "                   A        B         C    D    F    E\n",
       "2013-01-02 -0.091807  0.86167  0.804786  5.0  1.0  1.0"
      ]
     },
     "execution_count": 61,
     "metadata": {},
     "output_type": "execute_result"
    }
   ],
   "source": [
    "df1.dropna(how=\"any\")"
   ]
  },
  {
   "cell_type": "markdown",
   "id": "8ce23eda",
   "metadata": {},
   "source": [
    ":meth:`DataFrame.fillna` fills missing data:"
   ]
  },
  {
   "cell_type": "code",
   "execution_count": 62,
   "id": "01daf011",
   "metadata": {},
   "outputs": [
    {
     "data": {
      "text/html": [
       "<div>\n",
       "<style scoped>\n",
       "    .dataframe tbody tr th:only-of-type {\n",
       "        vertical-align: middle;\n",
       "    }\n",
       "\n",
       "    .dataframe tbody tr th {\n",
       "        vertical-align: top;\n",
       "    }\n",
       "\n",
       "    .dataframe thead th {\n",
       "        text-align: right;\n",
       "    }\n",
       "</style>\n",
       "<table border=\"1\" class=\"dataframe\">\n",
       "  <thead>\n",
       "    <tr style=\"text-align: right;\">\n",
       "      <th></th>\n",
       "      <th>A</th>\n",
       "      <th>B</th>\n",
       "      <th>C</th>\n",
       "      <th>D</th>\n",
       "      <th>F</th>\n",
       "      <th>E</th>\n",
       "    </tr>\n",
       "  </thead>\n",
       "  <tbody>\n",
       "    <tr>\n",
       "      <th>2013-01-01</th>\n",
       "      <td>0.000000</td>\n",
       "      <td>0.000000</td>\n",
       "      <td>1.047672</td>\n",
       "      <td>5.0</td>\n",
       "      <td>5.0</td>\n",
       "      <td>1.0</td>\n",
       "    </tr>\n",
       "    <tr>\n",
       "      <th>2013-01-02</th>\n",
       "      <td>-0.091807</td>\n",
       "      <td>0.861670</td>\n",
       "      <td>0.804786</td>\n",
       "      <td>5.0</td>\n",
       "      <td>1.0</td>\n",
       "      <td>1.0</td>\n",
       "    </tr>\n",
       "    <tr>\n",
       "      <th>2013-01-03</th>\n",
       "      <td>0.254026</td>\n",
       "      <td>-0.791125</td>\n",
       "      <td>0.868380</td>\n",
       "      <td>5.0</td>\n",
       "      <td>2.0</td>\n",
       "      <td>5.0</td>\n",
       "    </tr>\n",
       "    <tr>\n",
       "      <th>2013-01-04</th>\n",
       "      <td>0.097712</td>\n",
       "      <td>1.611808</td>\n",
       "      <td>-1.098642</td>\n",
       "      <td>5.0</td>\n",
       "      <td>3.0</td>\n",
       "      <td>5.0</td>\n",
       "    </tr>\n",
       "  </tbody>\n",
       "</table>\n",
       "</div>"
      ],
      "text/plain": [
       "                   A         B         C    D    F    E\n",
       "2013-01-01  0.000000  0.000000  1.047672  5.0  5.0  1.0\n",
       "2013-01-02 -0.091807  0.861670  0.804786  5.0  1.0  1.0\n",
       "2013-01-03  0.254026 -0.791125  0.868380  5.0  2.0  5.0\n",
       "2013-01-04  0.097712  1.611808 -1.098642  5.0  3.0  5.0"
      ]
     },
     "execution_count": 62,
     "metadata": {},
     "output_type": "execute_result"
    }
   ],
   "source": [
    "df1.fillna(value=5)"
   ]
  },
  {
   "cell_type": "markdown",
   "id": "446e7243",
   "metadata": {},
   "source": [
    ":func:`isna` gets the boolean mask where values are ``nan``:"
   ]
  },
  {
   "cell_type": "code",
   "execution_count": 63,
   "id": "de23ca91",
   "metadata": {},
   "outputs": [
    {
     "data": {
      "text/html": [
       "<div>\n",
       "<style scoped>\n",
       "    .dataframe tbody tr th:only-of-type {\n",
       "        vertical-align: middle;\n",
       "    }\n",
       "\n",
       "    .dataframe tbody tr th {\n",
       "        vertical-align: top;\n",
       "    }\n",
       "\n",
       "    .dataframe thead th {\n",
       "        text-align: right;\n",
       "    }\n",
       "</style>\n",
       "<table border=\"1\" class=\"dataframe\">\n",
       "  <thead>\n",
       "    <tr style=\"text-align: right;\">\n",
       "      <th></th>\n",
       "      <th>A</th>\n",
       "      <th>B</th>\n",
       "      <th>C</th>\n",
       "      <th>D</th>\n",
       "      <th>F</th>\n",
       "      <th>E</th>\n",
       "    </tr>\n",
       "  </thead>\n",
       "  <tbody>\n",
       "    <tr>\n",
       "      <th>2013-01-01</th>\n",
       "      <td>False</td>\n",
       "      <td>False</td>\n",
       "      <td>False</td>\n",
       "      <td>False</td>\n",
       "      <td>True</td>\n",
       "      <td>False</td>\n",
       "    </tr>\n",
       "    <tr>\n",
       "      <th>2013-01-02</th>\n",
       "      <td>False</td>\n",
       "      <td>False</td>\n",
       "      <td>False</td>\n",
       "      <td>False</td>\n",
       "      <td>False</td>\n",
       "      <td>False</td>\n",
       "    </tr>\n",
       "    <tr>\n",
       "      <th>2013-01-03</th>\n",
       "      <td>False</td>\n",
       "      <td>False</td>\n",
       "      <td>False</td>\n",
       "      <td>False</td>\n",
       "      <td>False</td>\n",
       "      <td>True</td>\n",
       "    </tr>\n",
       "    <tr>\n",
       "      <th>2013-01-04</th>\n",
       "      <td>False</td>\n",
       "      <td>False</td>\n",
       "      <td>False</td>\n",
       "      <td>False</td>\n",
       "      <td>False</td>\n",
       "      <td>True</td>\n",
       "    </tr>\n",
       "  </tbody>\n",
       "</table>\n",
       "</div>"
      ],
      "text/plain": [
       "                A      B      C      D      F      E\n",
       "2013-01-01  False  False  False  False   True  False\n",
       "2013-01-02  False  False  False  False  False  False\n",
       "2013-01-03  False  False  False  False  False   True\n",
       "2013-01-04  False  False  False  False  False   True"
      ]
     },
     "execution_count": 63,
     "metadata": {},
     "output_type": "execute_result"
    }
   ],
   "source": [
    "pd.isna(df1)"
   ]
  },
  {
   "cell_type": "markdown",
   "id": "fcae4d4f",
   "metadata": {},
   "source": [
    "Operations\n",
    "----------\n",
    "\n",
    "See the :ref:`Basic section on Binary Ops <basics.binop>`.\n",
    "\n",
    "### Stats\n",
    "\n",
    "Operations in general *exclude* missing data.\n",
    "\n",
    "Performing a descriptive statistic:"
   ]
  },
  {
   "cell_type": "code",
   "execution_count": 64,
   "id": "70472ac0",
   "metadata": {},
   "outputs": [
    {
     "data": {
      "text/plain": [
       "A   -0.269471\n",
       "B    0.340272\n",
       "C    0.037686\n",
       "D    5.000000\n",
       "F    3.000000\n",
       "dtype: float64"
      ]
     },
     "execution_count": 64,
     "metadata": {},
     "output_type": "execute_result"
    }
   ],
   "source": [
    "df.mean()"
   ]
  },
  {
   "cell_type": "markdown",
   "id": "e6a2eb88",
   "metadata": {},
   "source": [
    "Same operation on the other axis:"
   ]
  },
  {
   "cell_type": "code",
   "execution_count": 65,
   "id": "a837ad0c",
   "metadata": {},
   "outputs": [
    {
     "data": {
      "text/plain": [
       "2013-01-01    1.511918\n",
       "2013-01-02    1.514930\n",
       "2013-01-03    1.466256\n",
       "2013-01-04    1.722176\n",
       "2013-01-05    1.875952\n",
       "2013-01-06    1.341337\n",
       "dtype: float64"
      ]
     },
     "execution_count": 65,
     "metadata": {},
     "output_type": "execute_result"
    }
   ],
   "source": [
    "df.mean(1)"
   ]
  },
  {
   "cell_type": "markdown",
   "id": "8c23e7d1",
   "metadata": {},
   "source": [
    "Operating with objects that have different dimensionality and need alignment.\n",
    "In addition, pandas automatically broadcasts along the specified dimension:"
   ]
  },
  {
   "cell_type": "code",
   "execution_count": 66,
   "id": "f5a2c03d",
   "metadata": {},
   "outputs": [
    {
     "data": {
      "text/html": [
       "<div>\n",
       "<style scoped>\n",
       "    .dataframe tbody tr th:only-of-type {\n",
       "        vertical-align: middle;\n",
       "    }\n",
       "\n",
       "    .dataframe tbody tr th {\n",
       "        vertical-align: top;\n",
       "    }\n",
       "\n",
       "    .dataframe thead th {\n",
       "        text-align: right;\n",
       "    }\n",
       "</style>\n",
       "<table border=\"1\" class=\"dataframe\">\n",
       "  <thead>\n",
       "    <tr style=\"text-align: right;\">\n",
       "      <th></th>\n",
       "      <th>A</th>\n",
       "      <th>B</th>\n",
       "      <th>C</th>\n",
       "      <th>D</th>\n",
       "      <th>F</th>\n",
       "    </tr>\n",
       "  </thead>\n",
       "  <tbody>\n",
       "    <tr>\n",
       "      <th>2013-01-01</th>\n",
       "      <td>&lt;NA&gt;</td>\n",
       "      <td>&lt;NA&gt;</td>\n",
       "      <td>&lt;NA&gt;</td>\n",
       "      <td>&lt;NA&gt;</td>\n",
       "      <td>&lt;NA&gt;</td>\n",
       "    </tr>\n",
       "    <tr>\n",
       "      <th>2013-01-02</th>\n",
       "      <td>&lt;NA&gt;</td>\n",
       "      <td>&lt;NA&gt;</td>\n",
       "      <td>&lt;NA&gt;</td>\n",
       "      <td>&lt;NA&gt;</td>\n",
       "      <td>&lt;NA&gt;</td>\n",
       "    </tr>\n",
       "    <tr>\n",
       "      <th>2013-01-03</th>\n",
       "      <td>-0.74597446</td>\n",
       "      <td>-1.791124513</td>\n",
       "      <td>-0.131620384</td>\n",
       "      <td>4.0</td>\n",
       "      <td>1.0</td>\n",
       "    </tr>\n",
       "    <tr>\n",
       "      <th>2013-01-04</th>\n",
       "      <td>-2.902287933</td>\n",
       "      <td>-1.388192193</td>\n",
       "      <td>-4.098641589</td>\n",
       "      <td>2.0</td>\n",
       "      <td>0.0</td>\n",
       "    </tr>\n",
       "    <tr>\n",
       "      <th>2013-01-05</th>\n",
       "      <td>-4.722443711</td>\n",
       "      <td>-4.652895601</td>\n",
       "      <td>-5.244899136</td>\n",
       "      <td>0.0</td>\n",
       "      <td>-1.0</td>\n",
       "    </tr>\n",
       "    <tr>\n",
       "      <th>2013-01-06</th>\n",
       "      <td>&lt;NA&gt;</td>\n",
       "      <td>&lt;NA&gt;</td>\n",
       "      <td>&lt;NA&gt;</td>\n",
       "      <td>&lt;NA&gt;</td>\n",
       "      <td>&lt;NA&gt;</td>\n",
       "    </tr>\n",
       "  </tbody>\n",
       "</table>\n",
       "</div>"
      ],
      "text/plain": [
       "                       A             B             C     D     F\n",
       "2013-01-01          <NA>          <NA>          <NA>  <NA>  <NA>\n",
       "2013-01-02          <NA>          <NA>          <NA>  <NA>  <NA>\n",
       "2013-01-03   -0.74597446  -1.791124513  -0.131620384   4.0   1.0\n",
       "2013-01-04  -2.902287933  -1.388192193  -4.098641589   2.0   0.0\n",
       "2013-01-05  -4.722443711  -4.652895601  -5.244899136   0.0  -1.0\n",
       "2013-01-06          <NA>          <NA>          <NA>  <NA>  <NA>"
      ]
     },
     "execution_count": 66,
     "metadata": {},
     "output_type": "execute_result"
    }
   ],
   "source": [
    "s = pd.Series([1, 3, 5, np.nan, 6, 8], index=dates).shift(2)\n",
    "s\n",
    "df.sub(s, axis=\"index\")"
   ]
  },
  {
   "cell_type": "markdown",
   "id": "84e297ff",
   "metadata": {},
   "source": [
    "### Apply\n",
    "\n",
    "\n",
    ":meth:`DataFrame.apply` applies a user defined function to the data:"
   ]
  },
  {
   "cell_type": "code",
   "execution_count": 67,
   "id": "1546ea4c",
   "metadata": {},
   "outputs": [
    {
     "data": {
      "text/plain": [
       "A    2.431867\n",
       "B    2.402932\n",
       "C    2.198851\n",
       "D    0.000000\n",
       "F    4.000000\n",
       "dtype: float64"
      ]
     },
     "execution_count": 67,
     "metadata": {},
     "output_type": "execute_result"
    }
   ],
   "source": [
    "df.apply(np.cumsum)\n",
    "df.apply(lambda x: x.max() - x.min())"
   ]
  },
  {
   "cell_type": "markdown",
   "id": "a93e3e7c",
   "metadata": {},
   "source": [
    "### Histogramming\n",
    "\n",
    "\n",
    "See more at :ref:`Histogramming and Discretization <basics.discretization>`."
   ]
  },
  {
   "cell_type": "code",
   "execution_count": 68,
   "id": "edc7bd9e",
   "metadata": {},
   "outputs": [
    {
     "data": {
      "text/plain": [
       "4    4\n",
       "0    2\n",
       "6    1\n",
       "1    1\n",
       "3    1\n",
       "5    1\n",
       "dtype: int32"
      ]
     },
     "execution_count": 68,
     "metadata": {},
     "output_type": "execute_result"
    }
   ],
   "source": [
    "s = pd.Series(np.random.randint(0, 7, size=10))\n",
    "s\n",
    "s.value_counts()"
   ]
  },
  {
   "cell_type": "markdown",
   "id": "6e795c79",
   "metadata": {},
   "source": [
    "### String Methods\n",
    "\n",
    "Series is equipped with a set of string processing methods in the ``str``\n",
    "attribute that make it easy to operate on each element of the array, as in the\n",
    "code snippet below. Note that pattern-matching in ``str`` generally uses `regular\n",
    "expressions <https://docs.python.org/3/library/re.html>`__ by default (and in\n",
    "some cases always uses them). See more at :ref:`Vectorized String Methods\n",
    "<text.string_methods>`."
   ]
  },
  {
   "cell_type": "code",
   "execution_count": 69,
   "id": "c53fe597",
   "metadata": {},
   "outputs": [
    {
     "data": {
      "text/plain": [
       "0       a\n",
       "1       b\n",
       "2       c\n",
       "3    aaba\n",
       "4    baca\n",
       "5    <NA>\n",
       "6    caba\n",
       "7     dog\n",
       "8     cat\n",
       "dtype: object"
      ]
     },
     "execution_count": 69,
     "metadata": {},
     "output_type": "execute_result"
    }
   ],
   "source": [
    "s = pd.Series([\"A\", \"B\", \"C\", \"Aaba\", \"Baca\", np.nan, \"CABA\", \"dog\", \"cat\"])\n",
    "s.str.lower()"
   ]
  },
  {
   "cell_type": "markdown",
   "id": "423caa2f",
   "metadata": {},
   "source": [
    "Merge\n",
    "-----\n",
    "\n",
    "### Concat\n",
    "\n",
    "pandas provides various facilities for easily combining together Series and\n",
    "DataFrame objects with various kinds of set logic for the indexes\n",
    "and relational algebra functionality in the case of join / merge-type\n",
    "operations.\n",
    "\n",
    "See the :ref:`Merging section <merging>`.\n",
    "\n",
    "Concatenating pandas objects together along an axis with :func:`concat`:"
   ]
  },
  {
   "cell_type": "code",
   "execution_count": 70,
   "id": "12e89ec5",
   "metadata": {},
   "outputs": [
    {
     "data": {
      "text/html": [
       "<div>\n",
       "<style scoped>\n",
       "    .dataframe tbody tr th:only-of-type {\n",
       "        vertical-align: middle;\n",
       "    }\n",
       "\n",
       "    .dataframe tbody tr th {\n",
       "        vertical-align: top;\n",
       "    }\n",
       "\n",
       "    .dataframe thead th {\n",
       "        text-align: right;\n",
       "    }\n",
       "</style>\n",
       "<table border=\"1\" class=\"dataframe\">\n",
       "  <thead>\n",
       "    <tr style=\"text-align: right;\">\n",
       "      <th></th>\n",
       "      <th>0</th>\n",
       "      <th>1</th>\n",
       "      <th>2</th>\n",
       "      <th>3</th>\n",
       "    </tr>\n",
       "  </thead>\n",
       "  <tbody>\n",
       "    <tr>\n",
       "      <th>0</th>\n",
       "      <td>-1.551022</td>\n",
       "      <td>0.248039</td>\n",
       "      <td>-1.334987</td>\n",
       "      <td>-1.877321</td>\n",
       "    </tr>\n",
       "    <tr>\n",
       "      <th>1</th>\n",
       "      <td>-0.696902</td>\n",
       "      <td>-1.062945</td>\n",
       "      <td>0.597524</td>\n",
       "      <td>-0.362204</td>\n",
       "    </tr>\n",
       "    <tr>\n",
       "      <th>2</th>\n",
       "      <td>-0.193231</td>\n",
       "      <td>0.809899</td>\n",
       "      <td>-1.196020</td>\n",
       "      <td>0.477917</td>\n",
       "    </tr>\n",
       "    <tr>\n",
       "      <th>3</th>\n",
       "      <td>-1.325522</td>\n",
       "      <td>-0.450584</td>\n",
       "      <td>0.999706</td>\n",
       "      <td>0.039921</td>\n",
       "    </tr>\n",
       "    <tr>\n",
       "      <th>4</th>\n",
       "      <td>0.364478</td>\n",
       "      <td>-1.117897</td>\n",
       "      <td>0.823660</td>\n",
       "      <td>-2.331857</td>\n",
       "    </tr>\n",
       "    <tr>\n",
       "      <th>5</th>\n",
       "      <td>0.129323</td>\n",
       "      <td>-0.102256</td>\n",
       "      <td>-0.730443</td>\n",
       "      <td>-0.370039</td>\n",
       "    </tr>\n",
       "    <tr>\n",
       "      <th>6</th>\n",
       "      <td>0.678095</td>\n",
       "      <td>-1.956145</td>\n",
       "      <td>-0.894734</td>\n",
       "      <td>0.935517</td>\n",
       "    </tr>\n",
       "    <tr>\n",
       "      <th>7</th>\n",
       "      <td>0.626300</td>\n",
       "      <td>0.131243</td>\n",
       "      <td>0.018077</td>\n",
       "      <td>0.489063</td>\n",
       "    </tr>\n",
       "    <tr>\n",
       "      <th>8</th>\n",
       "      <td>-0.575586</td>\n",
       "      <td>0.768648</td>\n",
       "      <td>0.325696</td>\n",
       "      <td>-0.019574</td>\n",
       "    </tr>\n",
       "    <tr>\n",
       "      <th>9</th>\n",
       "      <td>0.419619</td>\n",
       "      <td>-1.687796</td>\n",
       "      <td>-0.060705</td>\n",
       "      <td>0.289224</td>\n",
       "    </tr>\n",
       "  </tbody>\n",
       "</table>\n",
       "</div>"
      ],
      "text/plain": [
       "          0         1         2         3\n",
       "0 -1.551022  0.248039 -1.334987 -1.877321\n",
       "1 -0.696902 -1.062945  0.597524 -0.362204\n",
       "2 -0.193231  0.809899 -1.196020  0.477917\n",
       "3 -1.325522 -0.450584  0.999706  0.039921\n",
       "4  0.364478 -1.117897  0.823660 -2.331857\n",
       "5  0.129323 -0.102256 -0.730443 -0.370039\n",
       "6  0.678095 -1.956145 -0.894734  0.935517\n",
       "7  0.626300  0.131243  0.018077  0.489063\n",
       "8 -0.575586  0.768648  0.325696 -0.019574\n",
       "9  0.419619 -1.687796 -0.060705  0.289224"
      ]
     },
     "execution_count": 70,
     "metadata": {},
     "output_type": "execute_result"
    }
   ],
   "source": [
    "df = pd.DataFrame(np.random.randn(10, 4))\n",
    "df"
   ]
  },
  {
   "cell_type": "code",
   "execution_count": 71,
   "id": "6289e783",
   "metadata": {},
   "outputs": [
    {
     "data": {
      "text/html": [
       "<div>\n",
       "<style scoped>\n",
       "    .dataframe tbody tr th:only-of-type {\n",
       "        vertical-align: middle;\n",
       "    }\n",
       "\n",
       "    .dataframe tbody tr th {\n",
       "        vertical-align: top;\n",
       "    }\n",
       "\n",
       "    .dataframe thead th {\n",
       "        text-align: right;\n",
       "    }\n",
       "</style>\n",
       "<table border=\"1\" class=\"dataframe\">\n",
       "  <thead>\n",
       "    <tr style=\"text-align: right;\">\n",
       "      <th></th>\n",
       "      <th>0</th>\n",
       "      <th>1</th>\n",
       "      <th>2</th>\n",
       "      <th>3</th>\n",
       "    </tr>\n",
       "  </thead>\n",
       "  <tbody>\n",
       "    <tr>\n",
       "      <th>0</th>\n",
       "      <td>-1.551022</td>\n",
       "      <td>0.248039</td>\n",
       "      <td>-1.334987</td>\n",
       "      <td>-1.877321</td>\n",
       "    </tr>\n",
       "    <tr>\n",
       "      <th>1</th>\n",
       "      <td>-0.696902</td>\n",
       "      <td>-1.062945</td>\n",
       "      <td>0.597524</td>\n",
       "      <td>-0.362204</td>\n",
       "    </tr>\n",
       "    <tr>\n",
       "      <th>2</th>\n",
       "      <td>-0.193231</td>\n",
       "      <td>0.809899</td>\n",
       "      <td>-1.196020</td>\n",
       "      <td>0.477917</td>\n",
       "    </tr>\n",
       "    <tr>\n",
       "      <th>3</th>\n",
       "      <td>-1.325522</td>\n",
       "      <td>-0.450584</td>\n",
       "      <td>0.999706</td>\n",
       "      <td>0.039921</td>\n",
       "    </tr>\n",
       "    <tr>\n",
       "      <th>4</th>\n",
       "      <td>0.364478</td>\n",
       "      <td>-1.117897</td>\n",
       "      <td>0.823660</td>\n",
       "      <td>-2.331857</td>\n",
       "    </tr>\n",
       "    <tr>\n",
       "      <th>5</th>\n",
       "      <td>0.129323</td>\n",
       "      <td>-0.102256</td>\n",
       "      <td>-0.730443</td>\n",
       "      <td>-0.370039</td>\n",
       "    </tr>\n",
       "    <tr>\n",
       "      <th>6</th>\n",
       "      <td>0.678095</td>\n",
       "      <td>-1.956145</td>\n",
       "      <td>-0.894734</td>\n",
       "      <td>0.935517</td>\n",
       "    </tr>\n",
       "    <tr>\n",
       "      <th>7</th>\n",
       "      <td>0.626300</td>\n",
       "      <td>0.131243</td>\n",
       "      <td>0.018077</td>\n",
       "      <td>0.489063</td>\n",
       "    </tr>\n",
       "    <tr>\n",
       "      <th>8</th>\n",
       "      <td>-0.575586</td>\n",
       "      <td>0.768648</td>\n",
       "      <td>0.325696</td>\n",
       "      <td>-0.019574</td>\n",
       "    </tr>\n",
       "    <tr>\n",
       "      <th>9</th>\n",
       "      <td>0.419619</td>\n",
       "      <td>-1.687796</td>\n",
       "      <td>-0.060705</td>\n",
       "      <td>0.289224</td>\n",
       "    </tr>\n",
       "  </tbody>\n",
       "</table>\n",
       "</div>"
      ],
      "text/plain": [
       "          0         1         2         3\n",
       "0 -1.551022  0.248039 -1.334987 -1.877321\n",
       "1 -0.696902 -1.062945  0.597524 -0.362204\n",
       "2 -0.193231  0.809899 -1.196020  0.477917\n",
       "3 -1.325522 -0.450584  0.999706  0.039921\n",
       "4  0.364478 -1.117897  0.823660 -2.331857\n",
       "5  0.129323 -0.102256 -0.730443 -0.370039\n",
       "6  0.678095 -1.956145 -0.894734  0.935517\n",
       "7  0.626300  0.131243  0.018077  0.489063\n",
       "8 -0.575586  0.768648  0.325696 -0.019574\n",
       "9  0.419619 -1.687796 -0.060705  0.289224"
      ]
     },
     "execution_count": 71,
     "metadata": {},
     "output_type": "execute_result"
    }
   ],
   "source": [
    "pieces = [df[:3], df[3:7], df[7:]]\n",
    "\n",
    "pd.concat(pieces)"
   ]
  },
  {
   "cell_type": "markdown",
   "id": "42445a03",
   "metadata": {},
   "source": [
    ".. note::\n",
    "   Adding a column to a :class:`DataFrame` is relatively fast. However, adding\n",
    "   a row requires a copy, and may be expensive. We recommend passing a\n",
    "   pre-built list of records to the :class:`DataFrame` constructor instead\n",
    "   of building a :class:`DataFrame` by iteratively appending records to it."
   ]
  },
  {
   "cell_type": "markdown",
   "id": "4dca36dc",
   "metadata": {},
   "source": [
    "### Join\n",
    "\n",
    "\n",
    ":func:`merge` enables SQL style join types along specific columns. See the :ref:`Database style joining <merging.join>` section."
   ]
  },
  {
   "cell_type": "code",
   "execution_count": 72,
   "id": "01b21818",
   "metadata": {},
   "outputs": [
    {
     "data": {
      "text/html": [
       "<div>\n",
       "<style scoped>\n",
       "    .dataframe tbody tr th:only-of-type {\n",
       "        vertical-align: middle;\n",
       "    }\n",
       "\n",
       "    .dataframe tbody tr th {\n",
       "        vertical-align: top;\n",
       "    }\n",
       "\n",
       "    .dataframe thead th {\n",
       "        text-align: right;\n",
       "    }\n",
       "</style>\n",
       "<table border=\"1\" class=\"dataframe\">\n",
       "  <thead>\n",
       "    <tr style=\"text-align: right;\">\n",
       "      <th></th>\n",
       "      <th>key</th>\n",
       "      <th>lval</th>\n",
       "      <th>rval</th>\n",
       "    </tr>\n",
       "  </thead>\n",
       "  <tbody>\n",
       "    <tr>\n",
       "      <th>0</th>\n",
       "      <td>foo</td>\n",
       "      <td>1</td>\n",
       "      <td>4</td>\n",
       "    </tr>\n",
       "    <tr>\n",
       "      <th>1</th>\n",
       "      <td>foo</td>\n",
       "      <td>1</td>\n",
       "      <td>5</td>\n",
       "    </tr>\n",
       "    <tr>\n",
       "      <th>2</th>\n",
       "      <td>foo</td>\n",
       "      <td>2</td>\n",
       "      <td>4</td>\n",
       "    </tr>\n",
       "    <tr>\n",
       "      <th>3</th>\n",
       "      <td>foo</td>\n",
       "      <td>2</td>\n",
       "      <td>5</td>\n",
       "    </tr>\n",
       "  </tbody>\n",
       "</table>\n",
       "</div>"
      ],
      "text/plain": [
       "   key  lval  rval\n",
       "0  foo     1     4\n",
       "1  foo     1     5\n",
       "2  foo     2     4\n",
       "3  foo     2     5"
      ]
     },
     "execution_count": 72,
     "metadata": {},
     "output_type": "execute_result"
    }
   ],
   "source": [
    "left = pd.DataFrame({\"key\": [\"foo\", \"foo\"], \"lval\": [1, 2]})\n",
    "right = pd.DataFrame({\"key\": [\"foo\", \"foo\"], \"rval\": [4, 5]})\n",
    "pd.merge(left, right, on=\"key\")"
   ]
  },
  {
   "cell_type": "markdown",
   "id": "39aeba9f",
   "metadata": {},
   "source": [
    "Another example that can be given is:"
   ]
  },
  {
   "cell_type": "code",
   "execution_count": 73,
   "id": "5979e75b",
   "metadata": {},
   "outputs": [
    {
     "data": {
      "text/html": [
       "<div>\n",
       "<style scoped>\n",
       "    .dataframe tbody tr th:only-of-type {\n",
       "        vertical-align: middle;\n",
       "    }\n",
       "\n",
       "    .dataframe tbody tr th {\n",
       "        vertical-align: top;\n",
       "    }\n",
       "\n",
       "    .dataframe thead th {\n",
       "        text-align: right;\n",
       "    }\n",
       "</style>\n",
       "<table border=\"1\" class=\"dataframe\">\n",
       "  <thead>\n",
       "    <tr style=\"text-align: right;\">\n",
       "      <th></th>\n",
       "      <th>key</th>\n",
       "      <th>lval</th>\n",
       "      <th>rval</th>\n",
       "    </tr>\n",
       "  </thead>\n",
       "  <tbody>\n",
       "    <tr>\n",
       "      <th>0</th>\n",
       "      <td>foo</td>\n",
       "      <td>1</td>\n",
       "      <td>4</td>\n",
       "    </tr>\n",
       "    <tr>\n",
       "      <th>1</th>\n",
       "      <td>bar</td>\n",
       "      <td>2</td>\n",
       "      <td>5</td>\n",
       "    </tr>\n",
       "  </tbody>\n",
       "</table>\n",
       "</div>"
      ],
      "text/plain": [
       "   key  lval  rval\n",
       "0  foo     1     4\n",
       "1  bar     2     5"
      ]
     },
     "execution_count": 73,
     "metadata": {},
     "output_type": "execute_result"
    }
   ],
   "source": [
    "left = pd.DataFrame({\"key\": [\"foo\", \"bar\"], \"lval\": [1, 2]})\n",
    "right = pd.DataFrame({\"key\": [\"foo\", \"bar\"], \"rval\": [4, 5]})\n",
    "pd.merge(left, right, on=\"key\")"
   ]
  },
  {
   "cell_type": "markdown",
   "id": "3929b2c7",
   "metadata": {},
   "source": [
    "Grouping\n",
    "--------\n",
    "\n",
    "By \"group by\" we are referring to a process involving one or more of the\n",
    "following steps:\n",
    "\n",
    " - **Splitting** the data into groups based on some criteria\n",
    " - **Applying** a function to each group independently\n",
    " - **Combining** the results into a data structure\n",
    "\n",
    "See the :ref:`Grouping section <groupby>`."
   ]
  },
  {
   "cell_type": "code",
   "execution_count": 74,
   "id": "75905882",
   "metadata": {},
   "outputs": [
    {
     "data": {
      "text/html": [
       "<div>\n",
       "<style scoped>\n",
       "    .dataframe tbody tr th:only-of-type {\n",
       "        vertical-align: middle;\n",
       "    }\n",
       "\n",
       "    .dataframe tbody tr th {\n",
       "        vertical-align: top;\n",
       "    }\n",
       "\n",
       "    .dataframe thead th {\n",
       "        text-align: right;\n",
       "    }\n",
       "</style>\n",
       "<table border=\"1\" class=\"dataframe\">\n",
       "  <thead>\n",
       "    <tr style=\"text-align: right;\">\n",
       "      <th></th>\n",
       "      <th>A</th>\n",
       "      <th>B</th>\n",
       "      <th>C</th>\n",
       "      <th>D</th>\n",
       "    </tr>\n",
       "  </thead>\n",
       "  <tbody>\n",
       "    <tr>\n",
       "      <th>0</th>\n",
       "      <td>foo</td>\n",
       "      <td>one</td>\n",
       "      <td>-1.611909</td>\n",
       "      <td>1.180846</td>\n",
       "    </tr>\n",
       "    <tr>\n",
       "      <th>1</th>\n",
       "      <td>bar</td>\n",
       "      <td>one</td>\n",
       "      <td>-0.651845</td>\n",
       "      <td>-0.196136</td>\n",
       "    </tr>\n",
       "    <tr>\n",
       "      <th>2</th>\n",
       "      <td>foo</td>\n",
       "      <td>two</td>\n",
       "      <td>1.331613</td>\n",
       "      <td>-0.261937</td>\n",
       "    </tr>\n",
       "    <tr>\n",
       "      <th>3</th>\n",
       "      <td>bar</td>\n",
       "      <td>three</td>\n",
       "      <td>-0.945523</td>\n",
       "      <td>-1.194889</td>\n",
       "    </tr>\n",
       "    <tr>\n",
       "      <th>4</th>\n",
       "      <td>foo</td>\n",
       "      <td>two</td>\n",
       "      <td>0.551002</td>\n",
       "      <td>0.204483</td>\n",
       "    </tr>\n",
       "    <tr>\n",
       "      <th>5</th>\n",
       "      <td>bar</td>\n",
       "      <td>two</td>\n",
       "      <td>-0.433770</td>\n",
       "      <td>0.759419</td>\n",
       "    </tr>\n",
       "    <tr>\n",
       "      <th>6</th>\n",
       "      <td>foo</td>\n",
       "      <td>one</td>\n",
       "      <td>-0.672954</td>\n",
       "      <td>0.844379</td>\n",
       "    </tr>\n",
       "    <tr>\n",
       "      <th>7</th>\n",
       "      <td>foo</td>\n",
       "      <td>three</td>\n",
       "      <td>-0.398820</td>\n",
       "      <td>1.174157</td>\n",
       "    </tr>\n",
       "  </tbody>\n",
       "</table>\n",
       "</div>"
      ],
      "text/plain": [
       "     A      B         C         D\n",
       "0  foo    one -1.611909  1.180846\n",
       "1  bar    one -0.651845 -0.196136\n",
       "2  foo    two  1.331613 -0.261937\n",
       "3  bar  three -0.945523 -1.194889\n",
       "4  foo    two  0.551002  0.204483\n",
       "5  bar    two -0.433770  0.759419\n",
       "6  foo    one -0.672954  0.844379\n",
       "7  foo  three -0.398820  1.174157"
      ]
     },
     "execution_count": 74,
     "metadata": {},
     "output_type": "execute_result"
    }
   ],
   "source": [
    "df = pd.DataFrame(\n",
    "   {\n",
    "       \"A\": [\"foo\", \"bar\", \"foo\", \"bar\", \"foo\", \"bar\", \"foo\", \"foo\"],\n",
    "       \"B\": [\"one\", \"one\", \"two\", \"three\", \"two\", \"two\", \"one\", \"three\"],\n",
    "       \"C\": np.random.randn(8),\n",
    "       \"D\": np.random.randn(8),\n",
    "   }\n",
    ")\n",
    "df"
   ]
  },
  {
   "cell_type": "markdown",
   "id": "524c4b53",
   "metadata": {},
   "source": [
    "Grouping and then applying the :meth:`~pandas.core.groupby.DataFrameGroupBy.sum` function to the resulting\n",
    "groups:"
   ]
  },
  {
   "cell_type": "code",
   "execution_count": 75,
   "id": "c048351d",
   "metadata": {},
   "outputs": [
    {
     "data": {
      "text/html": [
       "<div>\n",
       "<style scoped>\n",
       "    .dataframe tbody tr th:only-of-type {\n",
       "        vertical-align: middle;\n",
       "    }\n",
       "\n",
       "    .dataframe tbody tr th {\n",
       "        vertical-align: top;\n",
       "    }\n",
       "\n",
       "    .dataframe thead th {\n",
       "        text-align: right;\n",
       "    }\n",
       "</style>\n",
       "<table border=\"1\" class=\"dataframe\">\n",
       "  <thead>\n",
       "    <tr style=\"text-align: right;\">\n",
       "      <th></th>\n",
       "      <th>C</th>\n",
       "      <th>D</th>\n",
       "    </tr>\n",
       "    <tr>\n",
       "      <th>A</th>\n",
       "      <th></th>\n",
       "      <th></th>\n",
       "    </tr>\n",
       "  </thead>\n",
       "  <tbody>\n",
       "    <tr>\n",
       "      <th>bar</th>\n",
       "      <td>-2.031138</td>\n",
       "      <td>-0.631606</td>\n",
       "    </tr>\n",
       "    <tr>\n",
       "      <th>foo</th>\n",
       "      <td>-0.801069</td>\n",
       "      <td>3.141928</td>\n",
       "    </tr>\n",
       "  </tbody>\n",
       "</table>\n",
       "</div>"
      ],
      "text/plain": [
       "            C         D\n",
       "A                      \n",
       "bar -2.031138 -0.631606\n",
       "foo -0.801069  3.141928"
      ]
     },
     "execution_count": 75,
     "metadata": {},
     "output_type": "execute_result"
    }
   ],
   "source": [
    "df.groupby(\"A\")[[\"C\", \"D\"]].sum()"
   ]
  },
  {
   "cell_type": "markdown",
   "id": "1333bc78",
   "metadata": {},
   "source": [
    "Grouping by multiple columns forms a hierarchical index, and again we can\n",
    "apply the :meth:`~pandas.core.groupby.DataFrameGroupBy.sum` function:"
   ]
  },
  {
   "cell_type": "code",
   "execution_count": 76,
   "id": "8be827e0",
   "metadata": {},
   "outputs": [
    {
     "data": {
      "text/html": [
       "<div>\n",
       "<style scoped>\n",
       "    .dataframe tbody tr th:only-of-type {\n",
       "        vertical-align: middle;\n",
       "    }\n",
       "\n",
       "    .dataframe tbody tr th {\n",
       "        vertical-align: top;\n",
       "    }\n",
       "\n",
       "    .dataframe thead th {\n",
       "        text-align: right;\n",
       "    }\n",
       "</style>\n",
       "<table border=\"1\" class=\"dataframe\">\n",
       "  <thead>\n",
       "    <tr style=\"text-align: right;\">\n",
       "      <th></th>\n",
       "      <th></th>\n",
       "      <th>C</th>\n",
       "      <th>D</th>\n",
       "    </tr>\n",
       "    <tr>\n",
       "      <th>A</th>\n",
       "      <th>B</th>\n",
       "      <th></th>\n",
       "      <th></th>\n",
       "    </tr>\n",
       "  </thead>\n",
       "  <tbody>\n",
       "    <tr>\n",
       "      <th>bar</th>\n",
       "      <th>one</th>\n",
       "      <td>-0.651845</td>\n",
       "      <td>-0.196136</td>\n",
       "    </tr>\n",
       "    <tr>\n",
       "      <th>foo</th>\n",
       "      <th>one</th>\n",
       "      <td>-2.284864</td>\n",
       "      <td>2.025225</td>\n",
       "    </tr>\n",
       "    <tr>\n",
       "      <th>bar</th>\n",
       "      <th>three</th>\n",
       "      <td>-0.945523</td>\n",
       "      <td>-1.194889</td>\n",
       "    </tr>\n",
       "    <tr>\n",
       "      <th rowspan=\"2\" valign=\"top\">foo</th>\n",
       "      <th>three</th>\n",
       "      <td>-0.398820</td>\n",
       "      <td>1.174157</td>\n",
       "    </tr>\n",
       "    <tr>\n",
       "      <th>two</th>\n",
       "      <td>1.882615</td>\n",
       "      <td>-0.057454</td>\n",
       "    </tr>\n",
       "    <tr>\n",
       "      <th>bar</th>\n",
       "      <th>two</th>\n",
       "      <td>-0.433770</td>\n",
       "      <td>0.759419</td>\n",
       "    </tr>\n",
       "  </tbody>\n",
       "</table>\n",
       "</div>"
      ],
      "text/plain": [
       "                  C         D\n",
       "A   B                        \n",
       "bar one   -0.651845 -0.196136\n",
       "foo one   -2.284864  2.025225\n",
       "bar three -0.945523 -1.194889\n",
       "foo three -0.398820  1.174157\n",
       "    two    1.882615 -0.057454\n",
       "bar two   -0.433770  0.759419"
      ]
     },
     "execution_count": 76,
     "metadata": {},
     "output_type": "execute_result"
    }
   ],
   "source": [
    "df.groupby([\"A\", \"B\"]).sum()"
   ]
  },
  {
   "cell_type": "markdown",
   "id": "8e8e405e",
   "metadata": {},
   "source": [
    "Reshaping\n",
    "---------\n",
    "\n",
    "See the sections on :ref:`Hierarchical Indexing <advanced.hierarchical>` and\n",
    ":ref:`Reshaping <reshaping.stacking>`.\n",
    "\n",
    "### Stack"
   ]
  },
  {
   "cell_type": "code",
   "execution_count": 77,
   "id": "077433e6",
   "metadata": {},
   "outputs": [
    {
     "data": {
      "text/html": [
       "<div>\n",
       "<style scoped>\n",
       "    .dataframe tbody tr th:only-of-type {\n",
       "        vertical-align: middle;\n",
       "    }\n",
       "\n",
       "    .dataframe tbody tr th {\n",
       "        vertical-align: top;\n",
       "    }\n",
       "\n",
       "    .dataframe thead th {\n",
       "        text-align: right;\n",
       "    }\n",
       "</style>\n",
       "<table border=\"1\" class=\"dataframe\">\n",
       "  <thead>\n",
       "    <tr style=\"text-align: right;\">\n",
       "      <th></th>\n",
       "      <th></th>\n",
       "      <th>A</th>\n",
       "      <th>B</th>\n",
       "    </tr>\n",
       "    <tr>\n",
       "      <th>first</th>\n",
       "      <th>second</th>\n",
       "      <th></th>\n",
       "      <th></th>\n",
       "    </tr>\n",
       "  </thead>\n",
       "  <tbody>\n",
       "    <tr>\n",
       "      <th rowspan=\"2\" valign=\"top\">bar</th>\n",
       "      <th>one</th>\n",
       "      <td>-0.437270</td>\n",
       "      <td>0.168059</td>\n",
       "    </tr>\n",
       "    <tr>\n",
       "      <th>two</th>\n",
       "      <td>-0.156231</td>\n",
       "      <td>-0.891775</td>\n",
       "    </tr>\n",
       "    <tr>\n",
       "      <th rowspan=\"2\" valign=\"top\">baz</th>\n",
       "      <th>one</th>\n",
       "      <td>-1.092922</td>\n",
       "      <td>-1.460876</td>\n",
       "    </tr>\n",
       "    <tr>\n",
       "      <th>two</th>\n",
       "      <td>0.328895</td>\n",
       "      <td>-0.633221</td>\n",
       "    </tr>\n",
       "  </tbody>\n",
       "</table>\n",
       "</div>"
      ],
      "text/plain": [
       "                     A         B\n",
       "first second                    \n",
       "bar   one    -0.437270  0.168059\n",
       "      two    -0.156231 -0.891775\n",
       "baz   one    -1.092922 -1.460876\n",
       "      two     0.328895 -0.633221"
      ]
     },
     "execution_count": 77,
     "metadata": {},
     "output_type": "execute_result"
    }
   ],
   "source": [
    "tuples = list(\n",
    "   zip(\n",
    "       [\"bar\", \"bar\", \"baz\", \"baz\", \"foo\", \"foo\", \"qux\", \"qux\"],\n",
    "       [\"one\", \"two\", \"one\", \"two\", \"one\", \"two\", \"one\", \"two\"],\n",
    "   )\n",
    ")\n",
    "index = pd.MultiIndex.from_tuples(tuples, names=[\"first\", \"second\"])\n",
    "df = pd.DataFrame(np.random.randn(8, 2), index=index, columns=[\"A\", \"B\"])\n",
    "df2 = df[:4]\n",
    "df2"
   ]
  },
  {
   "cell_type": "markdown",
   "id": "fe9998f7",
   "metadata": {},
   "source": [
    "The :meth:`~DataFrame.stack` method \"compresses\" a level in the DataFrame's\n",
    "columns:"
   ]
  },
  {
   "cell_type": "code",
   "execution_count": 78,
   "id": "c50b4ddc",
   "metadata": {},
   "outputs": [
    {
     "data": {
      "text/plain": [
       "first  second   \n",
       "bar    one     A   -0.437270\n",
       "               B    0.168059\n",
       "       two     A   -0.156231\n",
       "               B   -0.891775\n",
       "baz    one     A   -1.092922\n",
       "               B   -1.460876\n",
       "       two     A    0.328895\n",
       "               B   -0.633221\n",
       "dtype: float64"
      ]
     },
     "execution_count": 78,
     "metadata": {},
     "output_type": "execute_result"
    }
   ],
   "source": [
    "stacked = df2.stack()\n",
    "stacked"
   ]
  },
  {
   "cell_type": "markdown",
   "id": "3972529b",
   "metadata": {},
   "source": [
    "With a \"stacked\" DataFrame or Series (having a :class:`MultiIndex` as the\n",
    "``index``), the inverse operation of :meth:`~DataFrame.stack` is\n",
    ":meth:`~DataFrame.unstack`, which by default unstacks the **last level**:"
   ]
  },
  {
   "cell_type": "code",
   "execution_count": 79,
   "id": "fe9eb7a4",
   "metadata": {},
   "outputs": [
    {
     "name": "stdout",
     "output_type": "stream",
     "text": [
      "                     A         B\n",
      "first second                    \n",
      "bar   one    -0.437270  0.168059\n",
      "      two    -0.156231 -0.891775\n",
      "baz   one    -1.092922 -1.460876\n",
      "      two     0.328895 -0.633221\n",
      "              one       two\n",
      "first                      \n",
      "bar   A -0.437270 -0.156231\n",
      "      B  0.168059 -0.891775\n",
      "baz   A -1.092922  0.328895\n",
      "      B -1.460876 -0.633221\n",
      "               bar       baz\n",
      "second                      \n",
      "one    A -0.437270 -1.092922\n",
      "       B  0.168059 -1.460876\n",
      "two    A -0.156231  0.328895\n",
      "       B -0.891775 -0.633221\n"
     ]
    }
   ],
   "source": [
    "print(stacked.unstack())\n",
    "print(stacked.unstack(1))\n",
    "print(stacked.unstack(0))"
   ]
  },
  {
   "cell_type": "markdown",
   "id": "af18afe3",
   "metadata": {},
   "source": [
    "### Pivot tables\n",
    "\n",
    "See the section on :ref:`Pivot Tables <reshaping.pivot>`."
   ]
  },
  {
   "cell_type": "code",
   "execution_count": 80,
   "id": "0a0251e7",
   "metadata": {},
   "outputs": [
    {
     "data": {
      "text/html": [
       "<div>\n",
       "<style scoped>\n",
       "    .dataframe tbody tr th:only-of-type {\n",
       "        vertical-align: middle;\n",
       "    }\n",
       "\n",
       "    .dataframe tbody tr th {\n",
       "        vertical-align: top;\n",
       "    }\n",
       "\n",
       "    .dataframe thead th {\n",
       "        text-align: right;\n",
       "    }\n",
       "</style>\n",
       "<table border=\"1\" class=\"dataframe\">\n",
       "  <thead>\n",
       "    <tr style=\"text-align: right;\">\n",
       "      <th></th>\n",
       "      <th>A</th>\n",
       "      <th>B</th>\n",
       "      <th>C</th>\n",
       "      <th>D</th>\n",
       "      <th>E</th>\n",
       "    </tr>\n",
       "  </thead>\n",
       "  <tbody>\n",
       "    <tr>\n",
       "      <th>0</th>\n",
       "      <td>one</td>\n",
       "      <td>A</td>\n",
       "      <td>foo</td>\n",
       "      <td>0.846145</td>\n",
       "      <td>1.228160</td>\n",
       "    </tr>\n",
       "    <tr>\n",
       "      <th>1</th>\n",
       "      <td>one</td>\n",
       "      <td>B</td>\n",
       "      <td>foo</td>\n",
       "      <td>-1.176027</td>\n",
       "      <td>-2.305885</td>\n",
       "    </tr>\n",
       "    <tr>\n",
       "      <th>2</th>\n",
       "      <td>two</td>\n",
       "      <td>C</td>\n",
       "      <td>foo</td>\n",
       "      <td>1.115538</td>\n",
       "      <td>-0.131116</td>\n",
       "    </tr>\n",
       "    <tr>\n",
       "      <th>3</th>\n",
       "      <td>three</td>\n",
       "      <td>A</td>\n",
       "      <td>bar</td>\n",
       "      <td>0.029013</td>\n",
       "      <td>-0.422236</td>\n",
       "    </tr>\n",
       "    <tr>\n",
       "      <th>4</th>\n",
       "      <td>one</td>\n",
       "      <td>B</td>\n",
       "      <td>bar</td>\n",
       "      <td>0.412564</td>\n",
       "      <td>0.220647</td>\n",
       "    </tr>\n",
       "    <tr>\n",
       "      <th>5</th>\n",
       "      <td>one</td>\n",
       "      <td>C</td>\n",
       "      <td>bar</td>\n",
       "      <td>0.094212</td>\n",
       "      <td>2.712328</td>\n",
       "    </tr>\n",
       "    <tr>\n",
       "      <th>6</th>\n",
       "      <td>two</td>\n",
       "      <td>A</td>\n",
       "      <td>foo</td>\n",
       "      <td>0.774008</td>\n",
       "      <td>-0.338198</td>\n",
       "    </tr>\n",
       "    <tr>\n",
       "      <th>7</th>\n",
       "      <td>three</td>\n",
       "      <td>B</td>\n",
       "      <td>foo</td>\n",
       "      <td>-0.295713</td>\n",
       "      <td>-1.137211</td>\n",
       "    </tr>\n",
       "    <tr>\n",
       "      <th>8</th>\n",
       "      <td>one</td>\n",
       "      <td>C</td>\n",
       "      <td>foo</td>\n",
       "      <td>-2.239716</td>\n",
       "      <td>-0.553704</td>\n",
       "    </tr>\n",
       "    <tr>\n",
       "      <th>9</th>\n",
       "      <td>one</td>\n",
       "      <td>A</td>\n",
       "      <td>bar</td>\n",
       "      <td>-0.530282</td>\n",
       "      <td>0.181492</td>\n",
       "    </tr>\n",
       "    <tr>\n",
       "      <th>10</th>\n",
       "      <td>two</td>\n",
       "      <td>B</td>\n",
       "      <td>bar</td>\n",
       "      <td>0.206642</td>\n",
       "      <td>-0.029070</td>\n",
       "    </tr>\n",
       "    <tr>\n",
       "      <th>11</th>\n",
       "      <td>three</td>\n",
       "      <td>C</td>\n",
       "      <td>bar</td>\n",
       "      <td>1.504017</td>\n",
       "      <td>-0.105396</td>\n",
       "    </tr>\n",
       "  </tbody>\n",
       "</table>\n",
       "</div>"
      ],
      "text/plain": [
       "        A  B    C         D         E\n",
       "0     one  A  foo  0.846145  1.228160\n",
       "1     one  B  foo -1.176027 -2.305885\n",
       "2     two  C  foo  1.115538 -0.131116\n",
       "3   three  A  bar  0.029013 -0.422236\n",
       "4     one  B  bar  0.412564  0.220647\n",
       "5     one  C  bar  0.094212  2.712328\n",
       "6     two  A  foo  0.774008 -0.338198\n",
       "7   three  B  foo -0.295713 -1.137211\n",
       "8     one  C  foo -2.239716 -0.553704\n",
       "9     one  A  bar -0.530282  0.181492\n",
       "10    two  B  bar  0.206642 -0.029070\n",
       "11  three  C  bar  1.504017 -0.105396"
      ]
     },
     "execution_count": 80,
     "metadata": {},
     "output_type": "execute_result"
    }
   ],
   "source": [
    "df = pd.DataFrame(\n",
    "   {\n",
    "       \"A\": [\"one\", \"one\", \"two\", \"three\"] * 3,\n",
    "       \"B\": [\"A\", \"B\", \"C\"] * 4,\n",
    "       \"C\": [\"foo\", \"foo\", \"foo\", \"bar\", \"bar\", \"bar\"] * 2,\n",
    "       \"D\": np.random.randn(12),\n",
    "       \"E\": np.random.randn(12),\n",
    "   }\n",
    ")\n",
    "df"
   ]
  },
  {
   "cell_type": "markdown",
   "id": "cfa8e0ad",
   "metadata": {},
   "source": [
    ":func:`pivot_table` pivots a :class:`DataFrame` specifying the ``values``, ``index`` and ``columns``"
   ]
  },
  {
   "cell_type": "code",
   "execution_count": 81,
   "id": "d843b0ce",
   "metadata": {},
   "outputs": [
    {
     "data": {
      "text/html": [
       "<div>\n",
       "<style scoped>\n",
       "    .dataframe tbody tr th:only-of-type {\n",
       "        vertical-align: middle;\n",
       "    }\n",
       "\n",
       "    .dataframe tbody tr th {\n",
       "        vertical-align: top;\n",
       "    }\n",
       "\n",
       "    .dataframe thead tr th {\n",
       "        text-align: left;\n",
       "    }\n",
       "\n",
       "    .dataframe thead tr:last-of-type th {\n",
       "        text-align: right;\n",
       "    }\n",
       "</style>\n",
       "<table border=\"1\" class=\"dataframe\">\n",
       "  <thead>\n",
       "    <tr>\n",
       "      <th></th>\n",
       "      <th>C</th>\n",
       "      <th>bar</th>\n",
       "      <th>foo</th>\n",
       "    </tr>\n",
       "    <tr>\n",
       "      <th>A</th>\n",
       "      <th>B</th>\n",
       "      <th></th>\n",
       "      <th></th>\n",
       "    </tr>\n",
       "  </thead>\n",
       "  <tbody>\n",
       "    <tr>\n",
       "      <th rowspan=\"3\" valign=\"top\">one</th>\n",
       "      <th>A</th>\n",
       "      <td>-0.530281703</td>\n",
       "      <td>0.846144887</td>\n",
       "    </tr>\n",
       "    <tr>\n",
       "      <th>B</th>\n",
       "      <td>0.412564077</td>\n",
       "      <td>-1.176026543</td>\n",
       "    </tr>\n",
       "    <tr>\n",
       "      <th>C</th>\n",
       "      <td>0.094212477</td>\n",
       "      <td>-2.239716339</td>\n",
       "    </tr>\n",
       "    <tr>\n",
       "      <th rowspan=\"3\" valign=\"top\">three</th>\n",
       "      <th>A</th>\n",
       "      <td>0.029013267</td>\n",
       "      <td>&lt;NA&gt;</td>\n",
       "    </tr>\n",
       "    <tr>\n",
       "      <th>B</th>\n",
       "      <td>&lt;NA&gt;</td>\n",
       "      <td>-0.29571328</td>\n",
       "    </tr>\n",
       "    <tr>\n",
       "      <th>C</th>\n",
       "      <td>1.504017385</td>\n",
       "      <td>&lt;NA&gt;</td>\n",
       "    </tr>\n",
       "    <tr>\n",
       "      <th rowspan=\"3\" valign=\"top\">two</th>\n",
       "      <th>A</th>\n",
       "      <td>&lt;NA&gt;</td>\n",
       "      <td>0.774007602</td>\n",
       "    </tr>\n",
       "    <tr>\n",
       "      <th>B</th>\n",
       "      <td>0.206642265</td>\n",
       "      <td>&lt;NA&gt;</td>\n",
       "    </tr>\n",
       "    <tr>\n",
       "      <th>C</th>\n",
       "      <td>&lt;NA&gt;</td>\n",
       "      <td>1.115537847</td>\n",
       "    </tr>\n",
       "  </tbody>\n",
       "</table>\n",
       "</div>"
      ],
      "text/plain": [
       "C                 bar           foo\n",
       "A     B                            \n",
       "one   A  -0.530281703   0.846144887\n",
       "      B   0.412564077  -1.176026543\n",
       "      C   0.094212477  -2.239716339\n",
       "three A   0.029013267          <NA>\n",
       "      B          <NA>   -0.29571328\n",
       "      C   1.504017385          <NA>\n",
       "two   A          <NA>   0.774007602\n",
       "      B   0.206642265          <NA>\n",
       "      C          <NA>   1.115537847"
      ]
     },
     "execution_count": 81,
     "metadata": {},
     "output_type": "execute_result"
    }
   ],
   "source": [
    "pd.pivot_table(df, values=\"D\", index=[\"A\", \"B\"], columns=[\"C\"])"
   ]
  },
  {
   "cell_type": "markdown",
   "id": "8d075790",
   "metadata": {},
   "source": [
    "Time series\n",
    "-----------\n",
    "\n",
    "pandas has simple, powerful, and efficient functionality for performing\n",
    "resampling operations during frequency conversion (e.g., converting secondly\n",
    "data into 5-minutely data). This is extremely common in, but not limited to,\n",
    "financial applications. See the :ref:`Time Series section <timeseries>`."
   ]
  },
  {
   "cell_type": "code",
   "execution_count": 82,
   "id": "9bdf8b23",
   "metadata": {},
   "outputs": [
    {
     "data": {
      "text/plain": [
       "2012-01-01    25174\n",
       "dtype: int64"
      ]
     },
     "execution_count": 82,
     "metadata": {},
     "output_type": "execute_result"
    }
   ],
   "source": [
    "rng = pd.date_range(\"1/1/2012\", periods=100, freq=\"S\")\n",
    "ts = pd.Series(np.random.randint(0, 500, len(rng)), index=rng)\n",
    "ts.resample(\"5Min\").sum()"
   ]
  },
  {
   "cell_type": "markdown",
   "id": "d8593537",
   "metadata": {},
   "source": [
    ":meth:`Series.tz_localize` localizes a time series to a time zone:"
   ]
  },
  {
   "cell_type": "code",
   "execution_count": 83,
   "id": "9753cad0",
   "metadata": {},
   "outputs": [
    {
     "data": {
      "text/plain": [
       "2012-03-06   -0.478011\n",
       "2012-03-07    0.572749\n",
       "2012-03-08   -1.252109\n",
       "2012-03-09    0.578483\n",
       "2012-03-10   -0.855968\n",
       "dtype: float64"
      ]
     },
     "execution_count": 83,
     "metadata": {},
     "output_type": "execute_result"
    }
   ],
   "source": [
    "rng = pd.date_range(\"3/6/2012 00:00\", periods=5, freq=\"D\")\n",
    "ts = pd.Series(np.random.randn(len(rng)), rng)\n",
    "ts\n",
    "ts_utc = ts.tz_localize(\"UTC\")\n",
    "ts_utc"
   ]
  },
  {
   "cell_type": "markdown",
   "id": "61fd98f9",
   "metadata": {},
   "source": [
    ":meth:`Series.tz_convert` converts a timezones aware time series to another time zone:"
   ]
  },
  {
   "cell_type": "code",
   "execution_count": 84,
   "id": "b2376fb0",
   "metadata": {},
   "outputs": [],
   "source": [
    "# This fails because cuDF accepts a timezone-aware Index erroneously\n",
    "# ts_utc.tz_convert(\"US/Eastern\")"
   ]
  },
  {
   "cell_type": "markdown",
   "id": "ea2dd498",
   "metadata": {},
   "source": [
    "Converting between time span representations:"
   ]
  },
  {
   "cell_type": "code",
   "execution_count": 85,
   "id": "48fc48b4",
   "metadata": {},
   "outputs": [
    {
     "name": "stdout",
     "output_type": "stream",
     "text": [
      "2012-01-31    0.714373\n",
      "2012-02-29   -1.202965\n",
      "2012-03-31    0.225332\n",
      "2012-04-30   -0.712947\n",
      "2012-05-31    1.254912\n",
      "dtype: float64\n",
      "2012-01    0.714373\n",
      "2012-02   -1.202965\n",
      "2012-03    0.225332\n",
      "2012-04   -0.712947\n",
      "2012-05    1.254912\n",
      "Freq: M, dtype: float64\n"
     ]
    },
    {
     "data": {
      "text/plain": [
       "2012-01-01    0.714373\n",
       "2012-02-01   -1.202965\n",
       "2012-03-01    0.225332\n",
       "2012-04-01   -0.712947\n",
       "2012-05-01    1.254912\n",
       "dtype: float64"
      ]
     },
     "execution_count": 85,
     "metadata": {},
     "output_type": "execute_result"
    }
   ],
   "source": [
    "rng = pd.date_range(\"1/1/2012\", periods=5, freq=\"M\")\n",
    "ts = pd.Series(np.random.randn(len(rng)), index=rng)\n",
    "print(ts)\n",
    "ps = ts.to_period()\n",
    "print(ps)\n",
    "ps.to_timestamp()"
   ]
  },
  {
   "cell_type": "markdown",
   "id": "22d1b40d",
   "metadata": {},
   "source": [
    "Converting between period and timestamp enables some convenient arithmetic\n",
    "functions to be used. In the following example, we convert a quarterly\n",
    "frequency with year ending in November to 9am of the end of the month following\n",
    "the quarter end:"
   ]
  },
  {
   "cell_type": "code",
   "execution_count": 86,
   "id": "bba5d81d",
   "metadata": {},
   "outputs": [
    {
     "data": {
      "text/plain": [
       "1990-03-01 09:00    1.566955\n",
       "1990-06-01 09:00    1.519023\n",
       "1990-09-01 09:00    0.416835\n",
       "1990-12-01 09:00   -3.464651\n",
       "1991-03-01 09:00    1.508838\n",
       "Freq: H, dtype: float64"
      ]
     },
     "execution_count": 86,
     "metadata": {},
     "output_type": "execute_result"
    }
   ],
   "source": [
    "prng = pd.period_range(\"1990Q1\", \"2000Q4\", freq=\"Q-NOV\")\n",
    "ts = pd.Series(np.random.randn(len(prng)), prng)\n",
    "ts.index = (prng.asfreq(\"M\", \"e\") + 1).asfreq(\"H\", \"s\") + 9\n",
    "ts.slow.head()"
   ]
  },
  {
   "cell_type": "markdown",
   "id": "19a45270",
   "metadata": {},
   "source": [
    "Categoricals\n",
    "------------\n",
    "\n",
    "pandas can include categorical data in a :class:`DataFrame`. For full docs, see the\n",
    ":ref:`categorical introduction <categorical>` and the :ref:`API documentation <api.arrays.categorical>`."
   ]
  },
  {
   "cell_type": "code",
   "execution_count": 87,
   "id": "a0fb08cc",
   "metadata": {},
   "outputs": [],
   "source": [
    "df = pd.DataFrame(\n",
    "    {\"id\": [1, 2, 3, 4, 5, 6], \"raw_grade\": [\"a\", \"b\", \"b\", \"a\", \"a\", \"e\"]}\n",
    ")"
   ]
  },
  {
   "cell_type": "markdown",
   "id": "50d7dec7",
   "metadata": {},
   "source": [
    "Converting the raw grades to a categorical data type:"
   ]
  },
  {
   "cell_type": "code",
   "execution_count": 88,
   "id": "d9446049",
   "metadata": {},
   "outputs": [
    {
     "data": {
      "text/plain": [
       "0    a\n",
       "1    b\n",
       "2    b\n",
       "3    a\n",
       "4    a\n",
       "5    e\n",
       "Name: grade, dtype: category\n",
       "Categories (3, object): ['a', 'b', 'e']"
      ]
     },
     "execution_count": 88,
     "metadata": {},
     "output_type": "execute_result"
    }
   ],
   "source": [
    "df[\"grade\"] = df[\"raw_grade\"].astype(\"category\")\n",
    "df[\"grade\"]"
   ]
  },
  {
   "cell_type": "markdown",
   "id": "cabc7db4",
   "metadata": {},
   "source": [
    "Rename the categories to more meaningful names:"
   ]
  },
  {
   "cell_type": "code",
   "execution_count": 89,
   "id": "9019077b",
   "metadata": {},
   "outputs": [],
   "source": [
    "new_categories = [\"very good\", \"good\", \"very bad\"]\n",
    "df[\"grade\"] = df[\"grade\"].cat.rename_categories(new_categories)"
   ]
  },
  {
   "cell_type": "markdown",
   "id": "10dc6bea",
   "metadata": {},
   "source": [
    "Reorder the categories and simultaneously add the missing categories (methods under :meth:`Series.cat` return a new :class:`Series` by default):"
   ]
  },
  {
   "cell_type": "code",
   "execution_count": 90,
   "id": "f03137cd",
   "metadata": {},
   "outputs": [
    {
     "data": {
      "text/plain": [
       "0    very good\n",
       "1         good\n",
       "2         good\n",
       "3    very good\n",
       "4    very good\n",
       "5     very bad\n",
       "Name: grade, dtype: category\n",
       "Categories (5, object): ['very bad', 'bad', 'medium', 'good', 'very good']"
      ]
     },
     "execution_count": 90,
     "metadata": {},
     "output_type": "execute_result"
    }
   ],
   "source": [
    "df[\"grade\"] = df[\"grade\"].cat.set_categories(\n",
    "    [\"very bad\", \"bad\", \"medium\", \"good\", \"very good\"]\n",
    ")\n",
    "df[\"grade\"]"
   ]
  },
  {
   "cell_type": "markdown",
   "id": "f26b7eac",
   "metadata": {},
   "source": [
    "Sorting is per order in the categories, not lexical order:"
   ]
  },
  {
   "cell_type": "code",
   "execution_count": 91,
   "id": "4131ab75",
   "metadata": {},
   "outputs": [
    {
     "data": {
      "text/html": [
       "<div>\n",
       "<style scoped>\n",
       "    .dataframe tbody tr th:only-of-type {\n",
       "        vertical-align: middle;\n",
       "    }\n",
       "\n",
       "    .dataframe tbody tr th {\n",
       "        vertical-align: top;\n",
       "    }\n",
       "\n",
       "    .dataframe thead th {\n",
       "        text-align: right;\n",
       "    }\n",
       "</style>\n",
       "<table border=\"1\" class=\"dataframe\">\n",
       "  <thead>\n",
       "    <tr style=\"text-align: right;\">\n",
       "      <th></th>\n",
       "      <th>id</th>\n",
       "      <th>raw_grade</th>\n",
       "      <th>grade</th>\n",
       "    </tr>\n",
       "  </thead>\n",
       "  <tbody>\n",
       "    <tr>\n",
       "      <th>5</th>\n",
       "      <td>6</td>\n",
       "      <td>e</td>\n",
       "      <td>very bad</td>\n",
       "    </tr>\n",
       "    <tr>\n",
       "      <th>1</th>\n",
       "      <td>2</td>\n",
       "      <td>b</td>\n",
       "      <td>good</td>\n",
       "    </tr>\n",
       "    <tr>\n",
       "      <th>2</th>\n",
       "      <td>3</td>\n",
       "      <td>b</td>\n",
       "      <td>good</td>\n",
       "    </tr>\n",
       "    <tr>\n",
       "      <th>0</th>\n",
       "      <td>1</td>\n",
       "      <td>a</td>\n",
       "      <td>very good</td>\n",
       "    </tr>\n",
       "    <tr>\n",
       "      <th>3</th>\n",
       "      <td>4</td>\n",
       "      <td>a</td>\n",
       "      <td>very good</td>\n",
       "    </tr>\n",
       "    <tr>\n",
       "      <th>4</th>\n",
       "      <td>5</td>\n",
       "      <td>a</td>\n",
       "      <td>very good</td>\n",
       "    </tr>\n",
       "  </tbody>\n",
       "</table>\n",
       "</div>"
      ],
      "text/plain": [
       "   id raw_grade      grade\n",
       "5   6         e   very bad\n",
       "1   2         b       good\n",
       "2   3         b       good\n",
       "0   1         a  very good\n",
       "3   4         a  very good\n",
       "4   5         a  very good"
      ]
     },
     "execution_count": 91,
     "metadata": {},
     "output_type": "execute_result"
    }
   ],
   "source": [
    "df.sort_values(by=\"grade\")"
   ]
  },
  {
   "cell_type": "markdown",
   "id": "4769dd73",
   "metadata": {},
   "source": [
    "Grouping by a categorical column also shows empty categories:"
   ]
  },
  {
   "cell_type": "code",
   "execution_count": 92,
   "id": "c78b8799",
   "metadata": {},
   "outputs": [
    {
     "data": {
      "text/plain": [
       "grade\n",
       "very bad     1\n",
       "good         2\n",
       "very good    3\n",
       "dtype: int32"
      ]
     },
     "execution_count": 92,
     "metadata": {},
     "output_type": "execute_result"
    }
   ],
   "source": [
    "df.groupby(\"grade\").size()"
   ]
  },
  {
   "cell_type": "markdown",
   "id": "3461a737",
   "metadata": {},
   "source": [
    "Plotting\n",
    "--------\n",
    "\n",
    "See the :ref:`Plotting <visualization>` docs.\n",
    "\n",
    "We use the standard convention for referencing the matplotlib API:"
   ]
  },
  {
   "cell_type": "code",
   "execution_count": 93,
   "id": "cb122e81",
   "metadata": {},
   "outputs": [],
   "source": [
    "import matplotlib.pyplot as plt\n",
    "\n",
    "plt.close(\"all\")"
   ]
  },
  {
   "cell_type": "markdown",
   "id": "53b324c2",
   "metadata": {},
   "source": [
    "The ``plt.close`` method is used to `close <https://matplotlib.org/3.1.1/api/_as_gen/matplotlib.pyplot.close.html>`__ a figure window:"
   ]
  },
  {
   "cell_type": "code",
   "execution_count": 94,
   "id": "a8ece7de",
   "metadata": {},
   "outputs": [
    {
     "data": {
      "text/plain": [
       "<AxesSubplot: >"
      ]
     },
     "execution_count": 94,
     "metadata": {},
     "output_type": "execute_result"
    },
    {
     "data": {
      "image/png": "[encoded data removed]",
      "text/plain": [
       "<Figure size 640x480 with 1 Axes>"
      ]
     },
     "metadata": {},
     "output_type": "display_data"
    }
   ],
   "source": [
    "ts = pd.Series(np.random.randn(1000), index=pd.date_range(\"1/1/2000\", periods=1000))\n",
    "ts = ts.cumsum()\n",
    "\n",
    "ts.plot()"
   ]
  },
  {
   "cell_type": "markdown",
   "id": "bfc93fc7",
   "metadata": {},
   "source": [
    "If running under Jupyter Notebook, the plot will appear on :meth:`~Series.plot`.  Otherwise use\n",
    "`matplotlib.pyplot.show <https://matplotlib.org/3.1.1/api/_as_gen/matplotlib.pyplot.show.html>`__ to show it or\n",
    "`matplotlib.pyplot.savefig <https://matplotlib.org/3.1.1/api/_as_gen/matplotlib.pyplot.savefig.html>`__ to write it to a file."
   ]
  },
  {
   "cell_type": "markdown",
   "id": "90633e07",
   "metadata": {},
   "source": [
    "On a DataFrame, the :meth:`~DataFrame.plot` method is a convenience to plot all\n",
    "of the columns with labels:"
   ]
  },
  {
   "cell_type": "code",
   "execution_count": 95,
   "id": "fef746f3",
   "metadata": {},
   "outputs": [
    {
     "data": {
      "text/plain": [
       "<Figure size 640x480 with 0 Axes>"
      ]
     },
     "metadata": {},
     "output_type": "display_data"
    },
    {
     "data": {
      "image/png": "[encoded data removed]",
      "text/plain": [
       "<Figure size 640x480 with 1 Axes>"
      ]
     },
     "metadata": {},
     "output_type": "display_data"
    }
   ],
   "source": [
    "df = pd.DataFrame(\n",
    "   np.random.randn(1000, 4), index=ts.index, columns=[\"A\", \"B\", \"C\", \"D\"]\n",
    ")\n",
    "\n",
    "df = df.cumsum()\n",
    "\n",
    "plt.figure();\n",
    "df.plot();\n",
    "plt.legend(loc='best');"
   ]
  },
  {
   "cell_type": "markdown",
   "id": "7447a3fc",
   "metadata": {},
   "source": [
    "Importing and exporting data\n",
    "----------------------------\n",
    "\n",
    "### CSV\n",
    "\n",
    ":ref:`Writing to a csv file: <io.store_in_csv>` using :meth:`DataFrame.to_csv`"
   ]
  },
  {
   "cell_type": "code",
   "execution_count": 96,
   "id": "ceca0af4",
   "metadata": {},
   "outputs": [],
   "source": [
    "df.to_csv(\"foo.csv\")"
   ]
  },
  {
   "cell_type": "markdown",
   "id": "c6637a50",
   "metadata": {},
   "source": [
    ":ref:`Reading from a csv file: <io.read_csv_table>` using :func:`read_csv`"
   ]
  },
  {
   "cell_type": "code",
   "execution_count": 97,
   "id": "e7fda46a",
   "metadata": {},
   "outputs": [
    {
     "data": {
      "text/html": [
       "<div>\n",
       "<style scoped>\n",
       "    .dataframe tbody tr th:only-of-type {\n",
       "        vertical-align: middle;\n",
       "    }\n",
       "\n",
       "    .dataframe tbody tr th {\n",
       "        vertical-align: top;\n",
       "    }\n",
       "\n",
       "    .dataframe thead th {\n",
       "        text-align: right;\n",
       "    }\n",
       "</style>\n",
       "<table border=\"1\" class=\"dataframe\">\n",
       "  <thead>\n",
       "    <tr style=\"text-align: right;\">\n",
       "      <th></th>\n",
       "      <th>Unnamed: 0</th>\n",
       "      <th>A</th>\n",
       "      <th>B</th>\n",
       "      <th>C</th>\n",
       "      <th>D</th>\n",
       "    </tr>\n",
       "  </thead>\n",
       "  <tbody>\n",
       "    <tr>\n",
       "      <th>0</th>\n",
       "      <td>2000-01-01T00:00:00.000000000Z</td>\n",
       "      <td>-0.351484</td>\n",
       "      <td>-0.293484</td>\n",
       "      <td>1.103316</td>\n",
       "      <td>-0.421909</td>\n",
       "    </tr>\n",
       "    <tr>\n",
       "      <th>1</th>\n",
       "      <td>2000-01-02T00:00:00.000000000Z</td>\n",
       "      <td>-1.545738</td>\n",
       "      <td>0.929087</td>\n",
       "      <td>0.421808</td>\n",
       "      <td>-2.031287</td>\n",
       "    </tr>\n",
       "    <tr>\n",
       "      <th>2</th>\n",
       "      <td>2000-01-03T00:00:00.000000000Z</td>\n",
       "      <td>-1.766298</td>\n",
       "      <td>2.514498</td>\n",
       "      <td>1.068526</td>\n",
       "      <td>-3.301596</td>\n",
       "    </tr>\n",
       "    <tr>\n",
       "      <th>3</th>\n",
       "      <td>2000-01-04T00:00:00.000000000Z</td>\n",
       "      <td>-1.797551</td>\n",
       "      <td>3.444316</td>\n",
       "      <td>1.953199</td>\n",
       "      <td>-3.442889</td>\n",
       "    </tr>\n",
       "    <tr>\n",
       "      <th>4</th>\n",
       "      <td>2000-01-05T00:00:00.000000000Z</td>\n",
       "      <td>-4.510284</td>\n",
       "      <td>5.209300</td>\n",
       "      <td>2.302658</td>\n",
       "      <td>-4.874955</td>\n",
       "    </tr>\n",
       "    <tr>\n",
       "      <th>...</th>\n",
       "      <td>...</td>\n",
       "      <td>...</td>\n",
       "      <td>...</td>\n",
       "      <td>...</td>\n",
       "      <td>...</td>\n",
       "    </tr>\n",
       "    <tr>\n",
       "      <th>995</th>\n",
       "      <td>2002-09-22T00:00:00.000000000Z</td>\n",
       "      <td>42.330489</td>\n",
       "      <td>-1.751183</td>\n",
       "      <td>-29.735083</td>\n",
       "      <td>38.809000</td>\n",
       "    </tr>\n",
       "    <tr>\n",
       "      <th>996</th>\n",
       "      <td>2002-09-23T00:00:00.000000000Z</td>\n",
       "      <td>42.284149</td>\n",
       "      <td>-1.624259</td>\n",
       "      <td>-30.858889</td>\n",
       "      <td>38.277129</td>\n",
       "    </tr>\n",
       "    <tr>\n",
       "      <th>997</th>\n",
       "      <td>2002-09-24T00:00:00.000000000Z</td>\n",
       "      <td>43.297397</td>\n",
       "      <td>-0.700341</td>\n",
       "      <td>-28.925130</td>\n",
       "      <td>37.958303</td>\n",
       "    </tr>\n",
       "    <tr>\n",
       "      <th>998</th>\n",
       "      <td>2002-09-25T00:00:00.000000000Z</td>\n",
       "      <td>43.086157</td>\n",
       "      <td>-0.865884</td>\n",
       "      <td>-28.319476</td>\n",
       "      <td>38.252561</td>\n",
       "    </tr>\n",
       "    <tr>\n",
       "      <th>999</th>\n",
       "      <td>2002-09-26T00:00:00.000000000Z</td>\n",
       "      <td>42.919388</td>\n",
       "      <td>-0.866403</td>\n",
       "      <td>-28.477722</td>\n",
       "      <td>35.556395</td>\n",
       "    </tr>\n",
       "  </tbody>\n",
       "</table>\n",
       "<p>1000 rows × 5 columns</p>\n",
       "</div>"
      ],
      "text/plain": [
       "                         Unnamed: 0          A         B          C          D\n",
       "0    2000-01-01T00:00:00.000000000Z  -0.351484 -0.293484   1.103316  -0.421909\n",
       "1    2000-01-02T00:00:00.000000000Z  -1.545738  0.929087   0.421808  -2.031287\n",
       "2    2000-01-03T00:00:00.000000000Z  -1.766298  2.514498   1.068526  -3.301596\n",
       "3    2000-01-04T00:00:00.000000000Z  -1.797551  3.444316   1.953199  -3.442889\n",
       "4    2000-01-05T00:00:00.000000000Z  -4.510284  5.209300   2.302658  -4.874955\n",
       "..                              ...        ...       ...        ...        ...\n",
       "995  2002-09-22T00:00:00.000000000Z  42.330489 -1.751183 -29.735083  38.809000\n",
       "996  2002-09-23T00:00:00.000000000Z  42.284149 -1.624259 -30.858889  38.277129\n",
       "997  2002-09-24T00:00:00.000000000Z  43.297397 -0.700341 -28.925130  37.958303\n",
       "998  2002-09-25T00:00:00.000000000Z  43.086157 -0.865884 -28.319476  38.252561\n",
       "999  2002-09-26T00:00:00.000000000Z  42.919388 -0.866403 -28.477722  35.556395\n",
       "\n",
       "[1000 rows x 5 columns]"
      ]
     },
     "execution_count": 97,
     "metadata": {},
     "output_type": "execute_result"
    }
   ],
   "source": [
    "pd.read_csv(\"foo.csv\")"
   ]
  },
  {
   "cell_type": "code",
   "execution_count": 98,
   "id": "005d9b21",
   "metadata": {},
   "outputs": [],
   "source": [
    "import os\n",
    "\n",
    "os.remove(\"foo.csv\")"
   ]
  }
 ],
 "metadata": {
  "kernelspec": {
   "display_name": "Python 3 (ipykernel)",
   "language": "python",
   "name": "python3"
  },
  "language_info": {
   "codemirror_mode": {
    "name": "ipython",
    "version": 3
   },
   "file_extension": ".py",
   "mimetype": "text/x-python",
   "name": "python",
   "nbconvert_exporter": "python",
   "pygments_lexer": "ipython3",
   "version": "3.10.8"
  }
 },
 "nbformat": 4,
 "nbformat_minor": 5
}
