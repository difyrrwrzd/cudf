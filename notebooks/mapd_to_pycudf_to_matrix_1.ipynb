{
 "cells": [
  {
   "cell_type": "markdown",
   "metadata": {},
   "source": [
    "Test MapD->PyCUDF->matrix"
   ]
  },
  {
   "cell_type": "code",
   "execution_count": 1,
   "metadata": {
    "collapsed": true
   },
   "outputs": [],
   "source": [
    "PWD = !pwd"
   ]
  },
  {
   "cell_type": "code",
   "execution_count": 2,
   "metadata": {
    "collapsed": true
   },
   "outputs": [],
   "source": [
    "import sys\n",
    "import os.path"
   ]
  },
  {
   "cell_type": "markdown",
   "metadata": {},
   "source": [
    "Add import path to MapD Thrift binding"
   ]
  },
  {
   "cell_type": "code",
   "execution_count": 3,
   "metadata": {
    "collapsed": true
   },
   "outputs": [],
   "source": [
    "mapd_thrift_path = os.path.join(PWD[0], 'gen-py')\n",
    "sys.path.append(mapd_thrift_path)"
   ]
  },
  {
   "cell_type": "markdown",
   "metadata": {},
   "source": [
    "Add import path to Arrow Schema"
   ]
  },
  {
   "cell_type": "code",
   "execution_count": 4,
   "metadata": {
    "collapsed": true
   },
   "outputs": [],
   "source": [
    "arrow_schema_path = os.path.join(PWD[0], 'arrow_schema')\n",
    "sys.path.append(arrow_schema_path)"
   ]
  },
  {
   "cell_type": "code",
   "execution_count": 5,
   "metadata": {
    "collapsed": true
   },
   "outputs": [],
   "source": [
    "from thrift.protocol import TBinaryProtocol\n",
    "from thrift.protocol import TJSONProtocol\n",
    "from thrift.transport import TSocket\n",
    "from thrift.transport import THttpClient\n",
    "from thrift.transport import TTransport"
   ]
  },
  {
   "cell_type": "code",
   "execution_count": 6,
   "metadata": {
    "collapsed": true
   },
   "outputs": [],
   "source": [
    "from mapd import MapD\n",
    "from mapd import ttypes"
   ]
  },
  {
   "cell_type": "markdown",
   "metadata": {},
   "source": [
    "MapD connection"
   ]
  },
  {
   "cell_type": "code",
   "execution_count": 7,
   "metadata": {
    "collapsed": true
   },
   "outputs": [],
   "source": [
    "def get_client(host_or_uri, port, http):\n",
    "  if http:\n",
    "    transport = THttpClient.THttpClient(host_or_uri)\n",
    "    protocol = TJSONProtocol.TJSONProtocol(transport)\n",
    "  else:\n",
    "    socket = TSocket.TSocket(host_or_uri, port)\n",
    "    transport = TTransport.TBufferedTransport(socket)\n",
    "    protocol = TBinaryProtocol.TBinaryProtocol(transport)\n",
    "\n",
    "  client = MapD.Client(protocol)\n",
    "  transport.open()\n",
    "  return client"
   ]
  },
  {
   "cell_type": "code",
   "execution_count": 8,
   "metadata": {},
   "outputs": [
    {
     "name": "stdout",
     "output_type": "stream",
     "text": [
      "Connection complete\n"
     ]
    }
   ],
   "source": [
    "db_name = 'mapd'\n",
    "user_name = 'mapd'\n",
    "passwd = 'HyperInteractive'\n",
    "hostname = 'localhost'\n",
    "portno = 9091\n",
    "\n",
    "client = get_client(hostname, portno, False)\n",
    "session = client.connect(user_name, passwd, db_name)\n",
    "print('Connection complete')"
   ]
  },
  {
   "cell_type": "markdown",
   "metadata": {},
   "source": [
    "The Query"
   ]
  },
  {
   "cell_type": "code",
   "execution_count": 9,
   "metadata": {},
   "outputs": [
    {
     "name": "stdout",
     "output_type": "stream",
     "text": [
      "Query is : select dest_lat, dest_lon from flights_2008_7M limit 23;\n"
     ]
    }
   ],
   "source": [
    "query = 'select dest_lat, dest_lon from flights_2008_7M limit 23;'\n",
    "print('Query is : ' + query)\n",
    "\n",
    "# always use True for is columnar\n",
    "results = client.sql_execute_cudf(session, query, device_id=0, first_n=-1)"
   ]
  },
  {
   "cell_type": "code",
   "execution_count": 10,
   "metadata": {},
   "outputs": [
    {
     "data": {
      "text/plain": [
       "TCuDataFrame(df_handle=b'\\xb0hT\\x04\\x00\\x00\\x00\\x00\\x82F\\x00\\x00\\x00\\x00\\x00\\x00\\xe0\\x02\\x00\\x00\\x00\\x00\\x00\\x00\\x00\\x00 \\x00\\x00\\x00\\x00\\x00\\x00\\x0c\\x00\\x00\\x00\\x00\\x00\\x00\\x00\\x04\\x00\\x00\\x00\\x00\\x00\\x00@\\x00\\x00\\x00\\x00\\x00\\x00\\x00\\xb0\\x00\\xd0\\xc1\\xaa\\x00\\x00\\\\', df_size=736, schema=b'\\x10\\x00\\x00\\x00\\x0c\\x00\\x0e\\x00\\x06\\x00\\x05\\x00\\x08\\x00\\x00\\x00\\x0c\\x00\\x00\\x00\\x00\\x01\\x01\\x00\\x10\\x00\\x00\\x00\\x00\\x00\\n\\x00\\x08\\x00\\x00\\x00\\x04\\x00\\x00\\x00\\n\\x00\\x00\\x00\\x04\\x00\\x00\\x00\\x02\\x00\\x00\\x00l\\x00\\x00\\x00\\x04\\x00\\x00\\x00\\xb0\\xff\\xff\\xff\\x00\\x00\\x01\\x038\\x00\\x00\\x00\\x1c\\x00\\x00\\x00\\x14\\x00\\x00\\x00\\x04\\x00\\x00\\x00\\x02\\x00\\x00\\x00\\x1c\\x00\\x00\\x00\\x10\\x00\\x00\\x00\\x00\\x00\\x00\\x00\\x9a\\xff\\xff\\xff\\x00\\x00\\x01\\x00\\x8c\\xff\\xff\\xff \\x00\\x01\\x00\\x94\\xff\\xff\\xff\\x01\\x00\\x02\\x00\\x08\\x00\\x00\\x00dest_lon\\x00\\x00\\x00\\x00\\x14\\x00\\x18\\x00\\x08\\x00\\x06\\x00\\x07\\x00\\x0c\\x00\\x00\\x00\\x10\\x00\\x14\\x00\\x00\\x00\\x14\\x00\\x00\\x00\\x00\\x00\\x01\\x03H\\x00\\x00\\x00$\\x00\\x00\\x00\\x14\\x00\\x00\\x00\\x04\\x00\\x00\\x00\\x02\\x00\\x00\\x00,\\x00\\x00\\x00\\x18\\x00\\x00\\x00\\x00\\x00\\x00\\x00\\x00\\x00\\x06\\x00\\x08\\x00\\x06\\x00\\x06\\x00\\x00\\x00\\x00\\x00\\x01\\x00\\xf8\\xff\\xff\\xff \\x00\\x01\\x00\\x08\\x00\\x08\\x00\\x04\\x00\\x06\\x00\\x08\\x00\\x00\\x00\\x01\\x00\\x02\\x00\\x08\\x00\\x00\\x00dest_lat\\x00\\x00\\x00\\x00')"
      ]
     },
     "execution_count": 10,
     "metadata": {},
     "output_type": "execute_result"
    }
   ],
   "source": [
    "results"
   ]
  },
  {
   "cell_type": "markdown",
   "metadata": {},
   "source": [
    "Use Numba to access the IPC memory handle\n",
    "\n",
    "Note: this requires numba 0.32.0 + PR #2023\n",
    "\n",
    "```bash\n",
    "git clone https://github.com/numba/numba\n",
    "cd numba\n",
    "git fetch origin pull/2023/merge:pr/2023\n",
    "git checkout pr/2023\n",
    "```"
   ]
  },
  {
   "cell_type": "code",
   "execution_count": 11,
   "metadata": {
    "collapsed": true
   },
   "outputs": [],
   "source": [
    "from numba import cuda\n",
    "from numba.cuda.cudadrv import drvapi"
   ]
  },
  {
   "cell_type": "code",
   "execution_count": 12,
   "metadata": {
    "collapsed": true
   },
   "outputs": [],
   "source": [
    "ipc_handle = drvapi.cu_ipc_mem_handle(*results.df_handle)"
   ]
  },
  {
   "cell_type": "code",
   "execution_count": 13,
   "metadata": {
    "collapsed": true
   },
   "outputs": [],
   "source": [
    "ipch = cuda.driver.IpcHandle(None, ipc_handle, size=results.df_size)"
   ]
  },
  {
   "cell_type": "code",
   "execution_count": 14,
   "metadata": {
    "collapsed": true
   },
   "outputs": [],
   "source": [
    "ctx = cuda.current_context()"
   ]
  },
  {
   "cell_type": "code",
   "execution_count": 15,
   "metadata": {
    "collapsed": true
   },
   "outputs": [],
   "source": [
    "dptr = ipch.open(ctx)"
   ]
  },
  {
   "cell_type": "code",
   "execution_count": 16,
   "metadata": {},
   "outputs": [
    {
     "data": {
      "text/plain": [
       "<numba.cuda.cudadrv.driver.OwnedPointer at 0x7fb084a02b38>"
      ]
     },
     "execution_count": 16,
     "metadata": {},
     "output_type": "execute_result"
    }
   ],
   "source": [
    "dptr"
   ]
  },
  {
   "cell_type": "markdown",
   "metadata": {},
   "source": [
    "`dptr` is GPU memory containing the query result"
   ]
  },
  {
   "cell_type": "markdown",
   "metadata": {},
   "source": [
    "Convert `dptr` into a GPU device ndarray (numpy array like object on GPU)"
   ]
  },
  {
   "cell_type": "code",
   "execution_count": 17,
   "metadata": {
    "collapsed": true
   },
   "outputs": [],
   "source": [
    "import numpy as np"
   ]
  },
  {
   "cell_type": "code",
   "execution_count": 18,
   "metadata": {
    "collapsed": true
   },
   "outputs": [],
   "source": [
    "dtype = np.dtype(np.byte)\n",
    "darr = cuda.devicearray.DeviceNDArray(shape=dptr.size, strides=dtype.itemsize, dtype=dtype, gpu_data=dptr)"
   ]
  },
  {
   "cell_type": "markdown",
   "metadata": {},
   "source": [
    "Use PyCUDF to read the arrow metadata from the query"
   ]
  },
  {
   "cell_type": "code",
   "execution_count": 19,
   "metadata": {
    "collapsed": true
   },
   "outputs": [],
   "source": [
    "from pycudf.gpuarrow import GpuArrowReader"
   ]
  },
  {
   "cell_type": "code",
   "execution_count": 20,
   "metadata": {
    "collapsed": true
   },
   "outputs": [],
   "source": [
    "reader = GpuArrowReader(darr)"
   ]
  },
  {
   "cell_type": "code",
   "execution_count": 21,
   "metadata": {},
   "outputs": [
    {
     "data": {
      "text/plain": [
       "OrderedDict([('dest_lat',\n",
       "              <numba.cuda.cudadrv.devicearray.DeviceNDArray at 0x7fb07d1d06d8>),\n",
       "             ('dest_lon',\n",
       "              <numba.cuda.cudadrv.devicearray.DeviceNDArray at 0x7fb07d1c5d68>)])"
      ]
     },
     "execution_count": 21,
     "metadata": {},
     "output_type": "execute_result"
    }
   ],
   "source": [
    "reader.to_dict()"
   ]
  },
  {
   "cell_type": "markdown",
   "metadata": {},
   "source": [
    "Wrap result in a Python CUDA DataFrame"
   ]
  },
  {
   "cell_type": "code",
   "execution_count": 22,
   "metadata": {
    "collapsed": true
   },
   "outputs": [],
   "source": [
    "from pycudf.dataframe import DataFrame"
   ]
  },
  {
   "cell_type": "code",
   "execution_count": 23,
   "metadata": {
    "collapsed": true
   },
   "outputs": [],
   "source": [
    "df = DataFrame()\n",
    "for k, v in reader.to_dict().items():\n",
    "    df[k] = v"
   ]
  },
  {
   "cell_type": "code",
   "execution_count": 24,
   "metadata": {},
   "outputs": [
    {
     "data": {
      "text/plain": [
       "(('dest_lat', 'dest_lon'), 23)"
      ]
     },
     "execution_count": 24,
     "metadata": {},
     "output_type": "execute_result"
    }
   ],
   "source": [
    "df.columns, len(df)"
   ]
  },
  {
   "cell_type": "markdown",
   "metadata": {},
   "source": [
    "Turn the dataframe into a matrix"
   ]
  },
  {
   "cell_type": "code",
   "execution_count": 25,
   "metadata": {},
   "outputs": [
    {
     "data": {
      "text/plain": [
       "array([[  37.36186218, -121.92900848],\n",
       "       [  37.36186218, -121.92900848],\n",
       "       [  38.69542313, -121.59076691],\n",
       "       [  38.69542313, -121.59076691],\n",
       "       [  38.69542313, -121.59076691],\n",
       "       [  35.04022217, -106.60919189],\n",
       "       [  33.5629425 ,  -86.75354767],\n",
       "       [  39.17539978,  -76.66819763],\n",
       "       [  32.84711456,  -96.85176849],\n",
       "       [  32.84711456,  -96.85176849],\n",
       "       [  30.49405479,  -81.68785858],\n",
       "       [  32.84711456,  -96.85176849],\n",
       "       [  30.49405479,  -81.68785858],\n",
       "       [  32.84711456,  -96.85176849],\n",
       "       [  28.42888832,  -81.31602478],\n",
       "       [  26.07258415,  -80.15274811],\n",
       "       [  28.42888832,  -81.31602478],\n",
       "       [  29.64541817,  -95.27889252],\n",
       "       [  41.78598404,  -87.75242615],\n",
       "       [  29.64541817,  -95.27889252],\n",
       "       [  41.78598404,  -87.75242615],\n",
       "       [  29.64541817,  -95.27889252],\n",
       "       [  41.78598404,  -87.75242615]], dtype=float32)"
      ]
     },
     "execution_count": 25,
     "metadata": {},
     "output_type": "execute_result"
    }
   ],
   "source": [
    "df.as_matrix()"
   ]
  },
  {
   "cell_type": "markdown",
   "metadata": {},
   "source": [
    "Cleanup the IPC handle"
   ]
  },
  {
   "cell_type": "code",
   "execution_count": 26,
   "metadata": {
    "collapsed": true
   },
   "outputs": [],
   "source": [
    "ipch.close()"
   ]
  }
 ],
 "metadata": {
  "kernelspec": {
   "display_name": "Python 3",
   "language": "python",
   "name": "python3"
  },
  "language_info": {
   "codemirror_mode": {
    "name": "ipython",
    "version": 3
   },
   "file_extension": ".py",
   "mimetype": "text/x-python",
   "name": "python",
   "nbconvert_exporter": "python",
   "pygments_lexer": "ipython3",
   "version": "3.5.3"
  }
 },
 "nbformat": 4,
 "nbformat_minor": 2
}
